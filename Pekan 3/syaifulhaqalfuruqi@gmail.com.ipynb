{
 "cells": [
  {
   "cell_type": "markdown",
   "metadata": {
    "colab_type": "text",
    "id": "Mk6qjezc8tPu"
   },
   "source": [
    "# Quiz Pekan - 3\n",
    "\n",
    "Dataset-dataset berikut ini menunjukkan persentase fat, protein, dan food yang dikonsumsi dari setiap jenis makanan yang terdaftar. Beberapa bagian akhir dataset juga mencakup persentase obesitas(Obesity), kurang gizi(Undernourished), dan kasus COVID-19 yang Terkonfirmasi(Confirmed)/Kematian(Deaths)/Sembuh(Recovered)/Aktif(Active).\n",
    "\n",
    "(Catatan: Semua data memiliki unit '%' (persen) kecuali Populasi, unit persen tersebut dihitung berdasarkan jumlah populasi).\n",
    "\n",
    "Link Download:\n",
    "\n",
    "[Food_Supply_Quantity_kg_Data.csv](https://drive.google.com/uc?export=download&id=1op0PFMMNglFtw8GVOF6HmomyAvgoY4jm)\n",
    "\n",
    "[Protein_Supply_Quantity_Data.csv](https://drive.google.com/uc?export=download&id=19vFZ1clhjY0vyC8onnlYE63w1QpmB4oj)\n",
    "\n",
    "[Fat_Supply_Quantity_Data.csv](https://drive.google.com/uc?export=download&id=1W1xIj5dGe9aLcg9cG6HVjlpdSqdlbue2)\n",
    "\n",
    "[Supply_Food_Data_Descriptions.csv](https://drive.google.com/uc?export=download&id=1hG4_-D0doXkTU1e7sqZabpRXgCkHt5Hr)"
   ]
  },
  {
   "cell_type": "code",
   "execution_count": 47,
   "metadata": {
    "colab": {},
    "colab_type": "code",
    "id": "NGNbQVKm4vgv"
   },
   "outputs": [],
   "source": [
    "import numpy as np\n",
    "import pandas as pd\n",
    "import matplotlib.pyplot as plt\n",
    "\n",
    "# Import Semua Data\n",
    "df_food = pd.read_csv('Food_Supply_Quantity_kg_Data.csv')\n",
    "df_protein = pd.read_csv('Protein_Supply_Quantity_Data.csv')\n",
    "df_fat = pd.read_csv('Fat_Supply_Quantity_Data.csv')\n",
    "df_category = pd.read_csv('Supply_Food_Data_Descriptions.csv')"
   ]
  },
  {
   "cell_type": "markdown",
   "metadata": {
    "colab_type": "text",
    "id": "Aj2MY336-ylZ"
   },
   "source": [
    "---"
   ]
  },
  {
   "cell_type": "markdown",
   "metadata": {
    "colab_type": "text",
    "id": "xWD8Zh-r_TxA"
   },
   "source": [
    "# Soal 1: Memisahkan kolom pada supply dataset antara kategori makanan dan bukan makanan"
   ]
  },
  {
   "cell_type": "markdown",
   "metadata": {
    "colab_type": "text",
    "id": "s4OM-RnaAQKl"
   },
   "source": [
    "Teman-teman diminta untuk menampilkan list kolom-kolom pada supply DataFrame dengan ketentuan sebagai berikut:\n",
    "\n",
    "*   all columns: list yang berisikan semua kolom pada supply DataFrame\n",
    "*   supply columns: list yang berisikan semua kolom pada supply DataFrame berdasarkan kolom 'Categories' pada DataFrame df_category\n",
    "*   non-supply columns: list yang berisikan semua kolom non-supply pada supply DataFrame\n"
   ]
  },
  {
   "cell_type": "code",
   "execution_count": 34,
   "metadata": {
    "colab": {},
    "colab_type": "code",
    "id": "8aHiCSZh5q1g"
   },
   "outputs": [
    {
     "name": "stdout",
     "output_type": "stream",
     "text": [
      "All Columns : ['Country', 'Alcoholic Beverages', 'Animal fats', 'Animal Products', 'Aquatic Products, Other', 'Cereals - Excluding Beer', 'Eggs', 'Fish, Seafood', 'Fruits - Excluding Wine', 'Meat', 'Milk - Excluding Butter', 'Miscellaneous', 'Offals', 'Oilcrops', 'Pulses', 'Spices', 'Starchy Roots', 'Stimulants', 'Sugar & Sweeteners', 'Sugar Crops', 'Treenuts', 'Vegetable Oils', 'Vegetables', 'Vegetal Products', 'Obesity', 'Undernourished', 'Confirmed', 'Deaths', 'Recovered', 'Active', 'Population', 'Unit (all except Population)'] \n",
      "\n",
      "\n",
      "Supply Columns : ['Alcoholic Beverages', 'Animal fats', 'Animal Products', 'Aquatic Products, Other', 'Cereals - Excluding Beer', 'Eggs', 'Fish, Seafood', 'Fruits - Excluding Wine', 'Meat', 'Milk - Excluding Butter', 'Miscellaneous', 'Offals', 'Oilcrops', 'Pulses', 'Spices', 'Starchy Roots', 'Stimulants', 'Sugar & Sweeteners', 'Sugar Crops', 'Treenuts', 'Vegetable Oils', 'Vegetables', 'Vegetal Products'] \n",
      "\n",
      "\n",
      "Non Supply Columns : ['Unit (all except Population)', 'Obesity', 'Confirmed', 'Country', 'Recovered', 'Deaths', 'Population', 'Undernourished', 'Active']\n"
     ]
    }
   ],
   "source": [
    "# Example\n",
    "all_columns = df_food.columns.tolist()\n",
    "print(f'All Columns : {all_columns} \\n\\n')\n",
    "\n",
    "# Code here\n",
    "supply_columns = df_category['Categories'].tolist()\n",
    "print(f'Supply Columns : {supply_columns} \\n\\n')\n",
    "\n",
    "non_supply_columns = list(set(all_columns) - set(supply_columns))\n",
    "print(f'Non Supply Columns : {non_supply_columns}')\n",
    "\n",
    "df_food[non_supply_columns] = non_supply_columns"
   ]
  },
  {
   "cell_type": "markdown",
   "metadata": {
    "colab_type": "text",
    "id": "A84xqzyoC0jU"
   },
   "source": [
    "Expected Output:\n",
    "\n",
    "![Expected Output:](https://drive.google.com/uc?id=1ItjI9ALd2I8tgJ2i8pa_UjdFfKS35mNu)"
   ]
  },
  {
   "cell_type": "markdown",
   "metadata": {
    "colab_type": "text",
    "id": "gnRBLXPZC3PD"
   },
   "source": [
    "---"
   ]
  },
  {
   "cell_type": "markdown",
   "metadata": {
    "colab_type": "text",
    "id": "zVjfRh2xDC8g"
   },
   "source": [
    "# Soal 2: Menggabungkan DataFrame\n",
    "\n"
   ]
  },
  {
   "cell_type": "markdown",
   "metadata": {
    "colab_type": "text",
    "id": "-xRZSuKBDYeQ"
   },
   "source": [
    "Gabungkan semua supply DataFrame dengan ketentuan tidak ada kolom dengan nama yang sama. Untuk kolom-kolom non-supply seperti tersebut di atas, memiliki nilai yang sama untuk setiap DataFrame, sehingga cukup ambil dari salah satu DataFrame. Sedangkan untuk kolom-kolom supply seperti tersebut di atas, setiap DataFrame (df_food, df_protein, df_fat) memiliki nilai yang berbeda, sehingga teman-teman perlu menambahkan suffix berdasarkan jenis supply DataFrame-nya, misalkan untuk kolom 'eggs' teman teman harus menambahkan suffix sehingga DataFrame gabungan memiliki kolom 'eggs_food', 'eggs_protein', dan 'eggs_fat'. Untuk mendapatkan gambaran lebih jelas, silahkan lihat pada expected output."
   ]
  },
  {
   "cell_type": "markdown",
   "metadata": {
    "colab_type": "text",
    "id": "UWBJLohAKODF"
   },
   "source": [
    "List kolom-kolom DataFrame hasil gabungan adalah sebagai berikut:\n",
    "\n",
    "\n",
    "```\n",
    " ['Country', 'Alcoholic Beverages_food', 'Animal fats_food',\n",
    "  'Animal Products_food', 'Aquatic Products, Other_food',\n",
    "  'Cereals - Excluding Beer_food', 'Eggs_food', 'Fish, Seafood_food',\n",
    "  'Fruits - Excluding Wine_food', 'Meat_food',\n",
    "  'Milk - Excluding Butter_food', 'Miscellaneous_food', 'Offals_food',\n",
    "  'Oilcrops_food', 'Pulses_food', 'Spices_food', 'Starchy Roots_food',\n",
    "  'Stimulants_food', 'Sugar & Sweeteners_food', 'Sugar Crops_food',\n",
    "  'Treenuts_food', 'Vegetable Oils_food', 'Vegetables_food',\n",
    "  'Vegetal Products_food', 'Alcoholic Beverages_protein',\n",
    "  'Animal fats_protein', 'Animal Products_protein',\n",
    "  'Aquatic Products, Other_protein', 'Cereals - Excluding Beer_protein',\n",
    "  'Eggs_protein', 'Fish, Seafood_protein',\n",
    "  'Fruits - Excluding Wine_protein', 'Meat_protein',\n",
    "  'Milk - Excluding Butter_protein', 'Miscellaneous_protein',\n",
    "  'Offals_protein', 'Oilcrops_protein', 'Pulses_protein',\n",
    "  'Spices_protein', 'Starchy Roots_protein', 'Stimulants_protein',\n",
    "  'Sugar & Sweeteners_protein', 'Sugar Crops_protein', 'Treenuts_protein',\n",
    "  'Vegetable Oils_protein', 'Vegetables_protein',\n",
    "  'Vegetal Products_protein', 'Alcoholic Beverages_fat',\n",
    "  'Animal fats_fat', 'Animal Products_fat', 'Aquatic Products, Other_fat',\n",
    "  'Cereals - Excluding Beer_fat', 'Eggs_fat', 'Fish, Seafood_fat',\n",
    "  'Fruits - Excluding Wine_fat', 'Meat_fat',\n",
    "  'Milk - Excluding Butter_fat', 'Miscellaneous_fat', 'Offals_fat',\n",
    "  'Oilcrops_fat', 'Pulses_fat', 'Spices_fat', 'Starchy Roots_fat',\n",
    "  'Stimulants_fat', 'Sugar & Sweeteners_fat', 'Sugar Crops_fat',\n",
    "  'Treenuts_fat', 'Vegetable Oils_fat', 'Vegetables_fat',\n",
    "  'Vegetal Products_fat', 'Obesity', 'Undernourished', 'Confirmed',\n",
    "  'Deaths', 'Recovered', 'Active', 'Population',\n",
    "  'Unit (all except Population)']\n",
    "```"
   ]
  },
  {
   "cell_type": "code",
   "execution_count": 48,
   "metadata": {
    "colab": {},
    "colab_type": "code",
    "id": "v8_WdQrCFvbY"
   },
   "outputs": [],
   "source": [
    "# Hint\n",
    "df_non_supply_new = df_food[non_supply_columns]\n",
    "df_food_new = df_food[['Country']+supply_columns]\n",
    "df_protein_new = df_protein[['Country']+supply_columns]\n",
    "df_fat_new = df_fat[['Country']+supply_columns]"
   ]
  },
  {
   "cell_type": "code",
   "execution_count": 54,
   "metadata": {
    "colab": {},
    "colab_type": "code",
    "id": "jtV0pJZGFwne"
   },
   "outputs": [
    {
     "data": {
      "text/html": [
       "<div>\n",
       "<style scoped>\n",
       "    .dataframe tbody tr th:only-of-type {\n",
       "        vertical-align: middle;\n",
       "    }\n",
       "\n",
       "    .dataframe tbody tr th {\n",
       "        vertical-align: top;\n",
       "    }\n",
       "\n",
       "    .dataframe thead th {\n",
       "        text-align: right;\n",
       "    }\n",
       "</style>\n",
       "<table border=\"1\" class=\"dataframe\">\n",
       "  <thead>\n",
       "    <tr style=\"text-align: right;\">\n",
       "      <th></th>\n",
       "      <th>Country</th>\n",
       "      <th>Alcoholic Beverages_food</th>\n",
       "      <th>Animal fats_food</th>\n",
       "      <th>Animal Products_food</th>\n",
       "      <th>Aquatic Products, Other_food</th>\n",
       "      <th>Cereals - Excluding Beer_food</th>\n",
       "      <th>Eggs_food</th>\n",
       "      <th>Fish, Seafood_food</th>\n",
       "      <th>Fruits - Excluding Wine_food</th>\n",
       "      <th>Meat_food</th>\n",
       "      <th>...</th>\n",
       "      <th>Pulses</th>\n",
       "      <th>Spices</th>\n",
       "      <th>Starchy Roots</th>\n",
       "      <th>Stimulants</th>\n",
       "      <th>Sugar &amp; Sweeteners</th>\n",
       "      <th>Sugar Crops</th>\n",
       "      <th>Treenuts</th>\n",
       "      <th>Vegetable Oils</th>\n",
       "      <th>Vegetables</th>\n",
       "      <th>Vegetal Products</th>\n",
       "    </tr>\n",
       "  </thead>\n",
       "  <tbody>\n",
       "    <tr>\n",
       "      <th>0</th>\n",
       "      <td>Afghanistan</td>\n",
       "      <td>0.0014</td>\n",
       "      <td>0.1973</td>\n",
       "      <td>9.4341</td>\n",
       "      <td>0.0000</td>\n",
       "      <td>24.8097</td>\n",
       "      <td>0.2099</td>\n",
       "      <td>0.0350</td>\n",
       "      <td>5.3495</td>\n",
       "      <td>1.2020</td>\n",
       "      <td>...</td>\n",
       "      <td>0.1960</td>\n",
       "      <td>0.2776</td>\n",
       "      <td>0.0490</td>\n",
       "      <td>0.0980</td>\n",
       "      <td>0.0</td>\n",
       "      <td>0.0000</td>\n",
       "      <td>0.7513</td>\n",
       "      <td>17.0831</td>\n",
       "      <td>0.3593</td>\n",
       "      <td>28.3684</td>\n",
       "    </tr>\n",
       "    <tr>\n",
       "      <th>1</th>\n",
       "      <td>Albania</td>\n",
       "      <td>1.6719</td>\n",
       "      <td>0.1357</td>\n",
       "      <td>18.7684</td>\n",
       "      <td>0.0000</td>\n",
       "      <td>5.7817</td>\n",
       "      <td>0.5815</td>\n",
       "      <td>0.2126</td>\n",
       "      <td>6.7861</td>\n",
       "      <td>1.8845</td>\n",
       "      <td>...</td>\n",
       "      <td>0.1148</td>\n",
       "      <td>0.0000</td>\n",
       "      <td>0.0510</td>\n",
       "      <td>0.5270</td>\n",
       "      <td>0.0</td>\n",
       "      <td>0.0000</td>\n",
       "      <td>0.9181</td>\n",
       "      <td>9.2443</td>\n",
       "      <td>0.6503</td>\n",
       "      <td>17.9998</td>\n",
       "    </tr>\n",
       "    <tr>\n",
       "      <th>2</th>\n",
       "      <td>Algeria</td>\n",
       "      <td>0.2711</td>\n",
       "      <td>0.0282</td>\n",
       "      <td>9.6334</td>\n",
       "      <td>0.0000</td>\n",
       "      <td>13.6816</td>\n",
       "      <td>0.5277</td>\n",
       "      <td>0.2416</td>\n",
       "      <td>6.3801</td>\n",
       "      <td>1.1305</td>\n",
       "      <td>...</td>\n",
       "      <td>0.2698</td>\n",
       "      <td>0.1568</td>\n",
       "      <td>0.1129</td>\n",
       "      <td>0.2886</td>\n",
       "      <td>0.0</td>\n",
       "      <td>0.0000</td>\n",
       "      <td>0.8595</td>\n",
       "      <td>27.3606</td>\n",
       "      <td>0.5145</td>\n",
       "      <td>35.5857</td>\n",
       "    </tr>\n",
       "    <tr>\n",
       "      <th>3</th>\n",
       "      <td>Angola</td>\n",
       "      <td>5.8087</td>\n",
       "      <td>0.0560</td>\n",
       "      <td>4.9278</td>\n",
       "      <td>0.0000</td>\n",
       "      <td>9.1085</td>\n",
       "      <td>0.0587</td>\n",
       "      <td>1.7707</td>\n",
       "      <td>6.0005</td>\n",
       "      <td>2.0571</td>\n",
       "      <td>...</td>\n",
       "      <td>0.3282</td>\n",
       "      <td>0.0103</td>\n",
       "      <td>0.7078</td>\n",
       "      <td>0.1128</td>\n",
       "      <td>0.0</td>\n",
       "      <td>0.0000</td>\n",
       "      <td>0.0308</td>\n",
       "      <td>22.4638</td>\n",
       "      <td>0.1231</td>\n",
       "      <td>34.7010</td>\n",
       "    </tr>\n",
       "    <tr>\n",
       "      <th>4</th>\n",
       "      <td>Antigua and Barbuda</td>\n",
       "      <td>3.5764</td>\n",
       "      <td>0.0087</td>\n",
       "      <td>16.6613</td>\n",
       "      <td>0.0000</td>\n",
       "      <td>5.9960</td>\n",
       "      <td>0.2274</td>\n",
       "      <td>4.1489</td>\n",
       "      <td>10.7451</td>\n",
       "      <td>5.6888</td>\n",
       "      <td>...</td>\n",
       "      <td>0.0673</td>\n",
       "      <td>0.3591</td>\n",
       "      <td>0.0449</td>\n",
       "      <td>1.0549</td>\n",
       "      <td>0.0</td>\n",
       "      <td>0.0000</td>\n",
       "      <td>0.2020</td>\n",
       "      <td>14.4436</td>\n",
       "      <td>0.2469</td>\n",
       "      <td>22.2995</td>\n",
       "    </tr>\n",
       "    <tr>\n",
       "      <th>...</th>\n",
       "      <td>...</td>\n",
       "      <td>...</td>\n",
       "      <td>...</td>\n",
       "      <td>...</td>\n",
       "      <td>...</td>\n",
       "      <td>...</td>\n",
       "      <td>...</td>\n",
       "      <td>...</td>\n",
       "      <td>...</td>\n",
       "      <td>...</td>\n",
       "      <td>...</td>\n",
       "      <td>...</td>\n",
       "      <td>...</td>\n",
       "      <td>...</td>\n",
       "      <td>...</td>\n",
       "      <td>...</td>\n",
       "      <td>...</td>\n",
       "      <td>...</td>\n",
       "      <td>...</td>\n",
       "      <td>...</td>\n",
       "      <td>...</td>\n",
       "    </tr>\n",
       "    <tr>\n",
       "      <th>165</th>\n",
       "      <td>Venezuela (Bolivarian Republic of)</td>\n",
       "      <td>2.5952</td>\n",
       "      <td>0.0403</td>\n",
       "      <td>14.7565</td>\n",
       "      <td>0.0000</td>\n",
       "      <td>12.9253</td>\n",
       "      <td>0.3389</td>\n",
       "      <td>0.9456</td>\n",
       "      <td>7.6460</td>\n",
       "      <td>3.8328</td>\n",
       "      <td>...</td>\n",
       "      <td>0.1157</td>\n",
       "      <td>0.0000</td>\n",
       "      <td>0.1311</td>\n",
       "      <td>0.0848</td>\n",
       "      <td>0.0</td>\n",
       "      <td>0.0000</td>\n",
       "      <td>0.0154</td>\n",
       "      <td>29.5211</td>\n",
       "      <td>0.1851</td>\n",
       "      <td>33.6855</td>\n",
       "    </tr>\n",
       "    <tr>\n",
       "      <th>166</th>\n",
       "      <td>Vietnam</td>\n",
       "      <td>1.4591</td>\n",
       "      <td>0.1640</td>\n",
       "      <td>8.5765</td>\n",
       "      <td>0.0042</td>\n",
       "      <td>16.8740</td>\n",
       "      <td>0.3077</td>\n",
       "      <td>2.6392</td>\n",
       "      <td>5.9029</td>\n",
       "      <td>4.4382</td>\n",
       "      <td>...</td>\n",
       "      <td>0.0765</td>\n",
       "      <td>0.6309</td>\n",
       "      <td>0.0701</td>\n",
       "      <td>0.0829</td>\n",
       "      <td>0.0</td>\n",
       "      <td>0.0382</td>\n",
       "      <td>1.1726</td>\n",
       "      <td>5.6211</td>\n",
       "      <td>0.6373</td>\n",
       "      <td>16.7548</td>\n",
       "    </tr>\n",
       "    <tr>\n",
       "      <th>167</th>\n",
       "      <td>Yemen</td>\n",
       "      <td>0.0364</td>\n",
       "      <td>0.0446</td>\n",
       "      <td>5.7874</td>\n",
       "      <td>0.0000</td>\n",
       "      <td>27.2077</td>\n",
       "      <td>0.2579</td>\n",
       "      <td>0.5240</td>\n",
       "      <td>5.1344</td>\n",
       "      <td>2.7871</td>\n",
       "      <td>...</td>\n",
       "      <td>0.5001</td>\n",
       "      <td>0.1026</td>\n",
       "      <td>0.0513</td>\n",
       "      <td>0.3718</td>\n",
       "      <td>0.0</td>\n",
       "      <td>0.0000</td>\n",
       "      <td>0.0769</td>\n",
       "      <td>23.6312</td>\n",
       "      <td>0.1667</td>\n",
       "      <td>37.4535</td>\n",
       "    </tr>\n",
       "    <tr>\n",
       "      <th>168</th>\n",
       "      <td>Zambia</td>\n",
       "      <td>5.7360</td>\n",
       "      <td>0.0829</td>\n",
       "      <td>6.0197</td>\n",
       "      <td>0.0000</td>\n",
       "      <td>21.1938</td>\n",
       "      <td>0.3399</td>\n",
       "      <td>1.6924</td>\n",
       "      <td>1.0183</td>\n",
       "      <td>1.8427</td>\n",
       "      <td>...</td>\n",
       "      <td>0.0783</td>\n",
       "      <td>0.1567</td>\n",
       "      <td>0.2014</td>\n",
       "      <td>0.0671</td>\n",
       "      <td>0.0</td>\n",
       "      <td>0.0000</td>\n",
       "      <td>0.0112</td>\n",
       "      <td>15.2848</td>\n",
       "      <td>0.1567</td>\n",
       "      <td>40.3939</td>\n",
       "    </tr>\n",
       "    <tr>\n",
       "      <th>169</th>\n",
       "      <td>Zimbabwe</td>\n",
       "      <td>4.0552</td>\n",
       "      <td>0.0755</td>\n",
       "      <td>8.1489</td>\n",
       "      <td>0.0000</td>\n",
       "      <td>22.6240</td>\n",
       "      <td>0.2678</td>\n",
       "      <td>0.5518</td>\n",
       "      <td>2.2000</td>\n",
       "      <td>2.6142</td>\n",
       "      <td>...</td>\n",
       "      <td>0.1140</td>\n",
       "      <td>0.0526</td>\n",
       "      <td>0.0877</td>\n",
       "      <td>0.1052</td>\n",
       "      <td>0.0</td>\n",
       "      <td>0.0000</td>\n",
       "      <td>0.4296</td>\n",
       "      <td>26.9396</td>\n",
       "      <td>0.0789</td>\n",
       "      <td>39.6248</td>\n",
       "    </tr>\n",
       "  </tbody>\n",
       "</table>\n",
       "<p>170 rows × 70 columns</p>\n",
       "</div>"
      ],
      "text/plain": [
       "                                Country  Alcoholic Beverages_food  \\\n",
       "0                           Afghanistan                    0.0014   \n",
       "1                               Albania                    1.6719   \n",
       "2                               Algeria                    0.2711   \n",
       "3                                Angola                    5.8087   \n",
       "4                   Antigua and Barbuda                    3.5764   \n",
       "..                                  ...                       ...   \n",
       "165  Venezuela (Bolivarian Republic of)                    2.5952   \n",
       "166                             Vietnam                    1.4591   \n",
       "167                               Yemen                    0.0364   \n",
       "168                              Zambia                    5.7360   \n",
       "169                            Zimbabwe                    4.0552   \n",
       "\n",
       "     Animal fats_food  Animal Products_food  Aquatic Products, Other_food  \\\n",
       "0              0.1973                9.4341                        0.0000   \n",
       "1              0.1357               18.7684                        0.0000   \n",
       "2              0.0282                9.6334                        0.0000   \n",
       "3              0.0560                4.9278                        0.0000   \n",
       "4              0.0087               16.6613                        0.0000   \n",
       "..                ...                   ...                           ...   \n",
       "165            0.0403               14.7565                        0.0000   \n",
       "166            0.1640                8.5765                        0.0042   \n",
       "167            0.0446                5.7874                        0.0000   \n",
       "168            0.0829                6.0197                        0.0000   \n",
       "169            0.0755                8.1489                        0.0000   \n",
       "\n",
       "     Cereals - Excluding Beer_food  Eggs_food  Fish, Seafood_food  \\\n",
       "0                          24.8097     0.2099              0.0350   \n",
       "1                           5.7817     0.5815              0.2126   \n",
       "2                          13.6816     0.5277              0.2416   \n",
       "3                           9.1085     0.0587              1.7707   \n",
       "4                           5.9960     0.2274              4.1489   \n",
       "..                             ...        ...                 ...   \n",
       "165                        12.9253     0.3389              0.9456   \n",
       "166                        16.8740     0.3077              2.6392   \n",
       "167                        27.2077     0.2579              0.5240   \n",
       "168                        21.1938     0.3399              1.6924   \n",
       "169                        22.6240     0.2678              0.5518   \n",
       "\n",
       "     Fruits - Excluding Wine_food  Meat_food  ...  Pulses  Spices  \\\n",
       "0                          5.3495     1.2020  ...  0.1960  0.2776   \n",
       "1                          6.7861     1.8845  ...  0.1148  0.0000   \n",
       "2                          6.3801     1.1305  ...  0.2698  0.1568   \n",
       "3                          6.0005     2.0571  ...  0.3282  0.0103   \n",
       "4                         10.7451     5.6888  ...  0.0673  0.3591   \n",
       "..                            ...        ...  ...     ...     ...   \n",
       "165                        7.6460     3.8328  ...  0.1157  0.0000   \n",
       "166                        5.9029     4.4382  ...  0.0765  0.6309   \n",
       "167                        5.1344     2.7871  ...  0.5001  0.1026   \n",
       "168                        1.0183     1.8427  ...  0.0783  0.1567   \n",
       "169                        2.2000     2.6142  ...  0.1140  0.0526   \n",
       "\n",
       "     Starchy Roots  Stimulants  Sugar & Sweeteners  Sugar Crops  Treenuts  \\\n",
       "0           0.0490      0.0980                 0.0       0.0000    0.7513   \n",
       "1           0.0510      0.5270                 0.0       0.0000    0.9181   \n",
       "2           0.1129      0.2886                 0.0       0.0000    0.8595   \n",
       "3           0.7078      0.1128                 0.0       0.0000    0.0308   \n",
       "4           0.0449      1.0549                 0.0       0.0000    0.2020   \n",
       "..             ...         ...                 ...          ...       ...   \n",
       "165         0.1311      0.0848                 0.0       0.0000    0.0154   \n",
       "166         0.0701      0.0829                 0.0       0.0382    1.1726   \n",
       "167         0.0513      0.3718                 0.0       0.0000    0.0769   \n",
       "168         0.2014      0.0671                 0.0       0.0000    0.0112   \n",
       "169         0.0877      0.1052                 0.0       0.0000    0.4296   \n",
       "\n",
       "     Vegetable Oils  Vegetables  Vegetal Products  \n",
       "0           17.0831      0.3593           28.3684  \n",
       "1            9.2443      0.6503           17.9998  \n",
       "2           27.3606      0.5145           35.5857  \n",
       "3           22.4638      0.1231           34.7010  \n",
       "4           14.4436      0.2469           22.2995  \n",
       "..              ...         ...               ...  \n",
       "165         29.5211      0.1851           33.6855  \n",
       "166          5.6211      0.6373           16.7548  \n",
       "167         23.6312      0.1667           37.4535  \n",
       "168         15.2848      0.1567           40.3939  \n",
       "169         26.9396      0.0789           39.6248  \n",
       "\n",
       "[170 rows x 70 columns]"
      ]
     },
     "execution_count": 54,
     "metadata": {},
     "output_type": "execute_result"
    }
   ],
   "source": [
    "# Selanjutnya gabungkan dataset pada hint di atas dengan menambahkan suffix berbeda untuk setiap supply dataset menggunakan pd.merge\n",
    "# Code here\n",
    "df_f_p = df_food_new.merge(df_protein_new, on=['Country', 'Country'], suffixes=('_food', '_protein'), how='outer')\n",
    "df = df_f_p.merge(df_fat_new, on=['Country', 'Country'], how='outer')\n",
    "df"
   ]
  },
  {
   "cell_type": "markdown",
   "metadata": {
    "colab_type": "text",
    "id": "5xLsdo-1vmk3"
   },
   "source": [
    "Expected output (kolom tidak semua ditampilkan):\n",
    "![Expected Output:](https://drive.google.com/uc?id=1_thZs6C82RhDFqWo5yGuZV_OWhgvqsnu)"
   ]
  },
  {
   "cell_type": "markdown",
   "metadata": {
    "colab_type": "text",
    "id": "8eRlFcl7IY-L"
   },
   "source": [
    "---"
   ]
  },
  {
   "cell_type": "markdown",
   "metadata": {
    "colab_type": "text",
    "id": "1O9_Cu_gIaxd"
   },
   "source": [
    "# Soal 3: Sorting dan Filtering"
   ]
  },
  {
   "cell_type": "markdown",
   "metadata": {
    "colab_type": "text",
    "id": "iIPsCyFSIh27"
   },
   "source": [
    "Dari DataFrame hasil penggabungan pada Soal 2 (atau gunakan salah satu supply DataFrame karena kolom nilai non-supply memiliki nilai yang sama), kemudian urutkan data (sort) berdasarkan kolom kematian ('Deaths') dari yang terbesar. Setelah itu lakukan perintah berikut:\n",
    "\n",
    "- Print data hasil sorting\n",
    "- Urutan ke berapakah Indonesia berdasarkan tingkat kematian akibat COVID-19 setelah diurutkan dari yang terbesar? Gunakan code mendapatkan nilainya! \n",
    "- Berapa persen dari terkonfirmasi jumlah kematian akibat COVID-19 di Indonesia? Hitung jumlah orang yang meninggal! Gunakan code mendapatkan nilainya! #hint: jumlah orang yang meninggal = populasi * kematian --> jangan lupa ada yang masih dalam persen\n"
   ]
  },
  {
   "cell_type": "code",
   "execution_count": 57,
   "metadata": {
    "colab": {},
    "colab_type": "code",
    "id": "n1yZCZ4bOo6m"
   },
   "outputs": [
    {
     "data": {
      "text/html": [
       "<div>\n",
       "<style scoped>\n",
       "    .dataframe tbody tr th:only-of-type {\n",
       "        vertical-align: middle;\n",
       "    }\n",
       "\n",
       "    .dataframe tbody tr th {\n",
       "        vertical-align: top;\n",
       "    }\n",
       "\n",
       "    .dataframe thead th {\n",
       "        text-align: right;\n",
       "    }\n",
       "</style>\n",
       "<table border=\"1\" class=\"dataframe\">\n",
       "  <thead>\n",
       "    <tr style=\"text-align: right;\">\n",
       "      <th></th>\n",
       "      <th>Country</th>\n",
       "      <th>Alcoholic Beverages</th>\n",
       "      <th>Animal fats</th>\n",
       "      <th>Animal Products</th>\n",
       "      <th>Aquatic Products, Other</th>\n",
       "      <th>Cereals - Excluding Beer</th>\n",
       "      <th>Eggs</th>\n",
       "      <th>Fish, Seafood</th>\n",
       "      <th>Fruits - Excluding Wine</th>\n",
       "      <th>Meat</th>\n",
       "      <th>...</th>\n",
       "      <th>Vegetables</th>\n",
       "      <th>Vegetal Products</th>\n",
       "      <th>Obesity</th>\n",
       "      <th>Undernourished</th>\n",
       "      <th>Confirmed</th>\n",
       "      <th>Deaths</th>\n",
       "      <th>Recovered</th>\n",
       "      <th>Active</th>\n",
       "      <th>Population</th>\n",
       "      <th>Unit (all except Population)</th>\n",
       "    </tr>\n",
       "  </thead>\n",
       "  <tbody>\n",
       "    <tr>\n",
       "      <th>106</th>\n",
       "      <td>Namibia</td>\n",
       "      <td>5.4716</td>\n",
       "      <td>0.1134</td>\n",
       "      <td>9.6094</td>\n",
       "      <td>0.0053</td>\n",
       "      <td>9.9189</td>\n",
       "      <td>0.1196</td>\n",
       "      <td>1.0164</td>\n",
       "      <td>3.1266</td>\n",
       "      <td>2.6844</td>\n",
       "      <td>...</td>\n",
       "      <td>2.3626</td>\n",
       "      <td>40.3800</td>\n",
       "      <td>15.0</td>\n",
       "      <td>27.3</td>\n",
       "      <td>0.007335</td>\n",
       "      <td>0.0</td>\n",
       "      <td>0.000962</td>\n",
       "      <td>0.006373</td>\n",
       "      <td>2495000.0</td>\n",
       "      <td>%</td>\n",
       "    </tr>\n",
       "    <tr>\n",
       "      <th>130</th>\n",
       "      <td>Saint Vincent and the Grenadines</td>\n",
       "      <td>2.5260</td>\n",
       "      <td>0.0220</td>\n",
       "      <td>11.0865</td>\n",
       "      <td>0.0000</td>\n",
       "      <td>9.0142</td>\n",
       "      <td>0.3412</td>\n",
       "      <td>1.3785</td>\n",
       "      <td>10.4710</td>\n",
       "      <td>6.9184</td>\n",
       "      <td>...</td>\n",
       "      <td>5.1371</td>\n",
       "      <td>38.9005</td>\n",
       "      <td>23.8</td>\n",
       "      <td>5.7</td>\n",
       "      <td>0.026126</td>\n",
       "      <td>0.0</td>\n",
       "      <td>0.026126</td>\n",
       "      <td>0.000000</td>\n",
       "      <td>111000.0</td>\n",
       "      <td>%</td>\n",
       "    </tr>\n",
       "    <tr>\n",
       "      <th>129</th>\n",
       "      <td>Saint Lucia</td>\n",
       "      <td>7.8024</td>\n",
       "      <td>0.0252</td>\n",
       "      <td>14.8893</td>\n",
       "      <td>0.0009</td>\n",
       "      <td>7.2091</td>\n",
       "      <td>0.3326</td>\n",
       "      <td>3.0652</td>\n",
       "      <td>5.9453</td>\n",
       "      <td>8.1700</td>\n",
       "      <td>...</td>\n",
       "      <td>4.1169</td>\n",
       "      <td>35.0964</td>\n",
       "      <td>19.8</td>\n",
       "      <td>NaN</td>\n",
       "      <td>0.010556</td>\n",
       "      <td>0.0</td>\n",
       "      <td>0.010556</td>\n",
       "      <td>0.000000</td>\n",
       "      <td>180000.0</td>\n",
       "      <td>%</td>\n",
       "    </tr>\n",
       "    <tr>\n",
       "      <th>128</th>\n",
       "      <td>Saint Kitts and Nevis</td>\n",
       "      <td>4.0867</td>\n",
       "      <td>0.1735</td>\n",
       "      <td>14.0252</td>\n",
       "      <td>0.0000</td>\n",
       "      <td>6.3135</td>\n",
       "      <td>0.3868</td>\n",
       "      <td>3.4174</td>\n",
       "      <td>7.5449</td>\n",
       "      <td>7.8207</td>\n",
       "      <td>...</td>\n",
       "      <td>4.2090</td>\n",
       "      <td>35.9677</td>\n",
       "      <td>23.1</td>\n",
       "      <td>NaN</td>\n",
       "      <td>0.028302</td>\n",
       "      <td>0.0</td>\n",
       "      <td>0.028302</td>\n",
       "      <td>0.000000</td>\n",
       "      <td>53000.0</td>\n",
       "      <td>%</td>\n",
       "    </tr>\n",
       "    <tr>\n",
       "      <th>150</th>\n",
       "      <td>Timor-Leste</td>\n",
       "      <td>0.4459</td>\n",
       "      <td>0.0897</td>\n",
       "      <td>5.4983</td>\n",
       "      <td>0.0000</td>\n",
       "      <td>26.3320</td>\n",
       "      <td>0.1025</td>\n",
       "      <td>1.0225</td>\n",
       "      <td>2.1027</td>\n",
       "      <td>4.0376</td>\n",
       "      <td>...</td>\n",
       "      <td>3.1867</td>\n",
       "      <td>44.5030</td>\n",
       "      <td>2.9</td>\n",
       "      <td>24.9</td>\n",
       "      <td>0.001856</td>\n",
       "      <td>0.0</td>\n",
       "      <td>0.001856</td>\n",
       "      <td>0.000000</td>\n",
       "      <td>1293000.0</td>\n",
       "      <td>%</td>\n",
       "    </tr>\n",
       "    <tr>\n",
       "      <th>...</th>\n",
       "      <td>...</td>\n",
       "      <td>...</td>\n",
       "      <td>...</td>\n",
       "      <td>...</td>\n",
       "      <td>...</td>\n",
       "      <td>...</td>\n",
       "      <td>...</td>\n",
       "      <td>...</td>\n",
       "      <td>...</td>\n",
       "      <td>...</td>\n",
       "      <td>...</td>\n",
       "      <td>...</td>\n",
       "      <td>...</td>\n",
       "      <td>...</td>\n",
       "      <td>...</td>\n",
       "      <td>...</td>\n",
       "      <td>...</td>\n",
       "      <td>...</td>\n",
       "      <td>...</td>\n",
       "      <td>...</td>\n",
       "      <td>...</td>\n",
       "    </tr>\n",
       "    <tr>\n",
       "      <th>109</th>\n",
       "      <td>New Caledonia</td>\n",
       "      <td>5.0363</td>\n",
       "      <td>0.0821</td>\n",
       "      <td>11.7818</td>\n",
       "      <td>0.0804</td>\n",
       "      <td>8.5840</td>\n",
       "      <td>0.7494</td>\n",
       "      <td>2.0361</td>\n",
       "      <td>5.5855</td>\n",
       "      <td>5.8687</td>\n",
       "      <td>...</td>\n",
       "      <td>5.5941</td>\n",
       "      <td>38.2208</td>\n",
       "      <td>NaN</td>\n",
       "      <td>7.1</td>\n",
       "      <td>NaN</td>\n",
       "      <td>NaN</td>\n",
       "      <td>NaN</td>\n",
       "      <td>NaN</td>\n",
       "      <td>291000.0</td>\n",
       "      <td>%</td>\n",
       "    </tr>\n",
       "    <tr>\n",
       "      <th>131</th>\n",
       "      <td>Samoa</td>\n",
       "      <td>1.4236</td>\n",
       "      <td>0.2262</td>\n",
       "      <td>11.1630</td>\n",
       "      <td>0.1236</td>\n",
       "      <td>3.6768</td>\n",
       "      <td>0.1314</td>\n",
       "      <td>2.7788</td>\n",
       "      <td>10.7845</td>\n",
       "      <td>5.7993</td>\n",
       "      <td>...</td>\n",
       "      <td>1.1656</td>\n",
       "      <td>38.8349</td>\n",
       "      <td>45.5</td>\n",
       "      <td>2.7</td>\n",
       "      <td>NaN</td>\n",
       "      <td>NaN</td>\n",
       "      <td>NaN</td>\n",
       "      <td>NaN</td>\n",
       "      <td>199000.0</td>\n",
       "      <td>%</td>\n",
       "    </tr>\n",
       "    <tr>\n",
       "      <th>139</th>\n",
       "      <td>Solomon Islands</td>\n",
       "      <td>0.8298</td>\n",
       "      <td>0.1038</td>\n",
       "      <td>3.8504</td>\n",
       "      <td>0.0121</td>\n",
       "      <td>9.0233</td>\n",
       "      <td>0.0826</td>\n",
       "      <td>2.2840</td>\n",
       "      <td>3.2798</td>\n",
       "      <td>0.8897</td>\n",
       "      <td>...</td>\n",
       "      <td>1.1223</td>\n",
       "      <td>46.1492</td>\n",
       "      <td>20.5</td>\n",
       "      <td>8.9</td>\n",
       "      <td>NaN</td>\n",
       "      <td>NaN</td>\n",
       "      <td>NaN</td>\n",
       "      <td>NaN</td>\n",
       "      <td>699000.0</td>\n",
       "      <td>%</td>\n",
       "    </tr>\n",
       "    <tr>\n",
       "      <th>155</th>\n",
       "      <td>Turkmenistan</td>\n",
       "      <td>0.5038</td>\n",
       "      <td>0.3373</td>\n",
       "      <td>16.0611</td>\n",
       "      <td>0.0000</td>\n",
       "      <td>14.8029</td>\n",
       "      <td>0.5139</td>\n",
       "      <td>0.2137</td>\n",
       "      <td>4.1441</td>\n",
       "      <td>4.3767</td>\n",
       "      <td>...</td>\n",
       "      <td>10.4014</td>\n",
       "      <td>33.9389</td>\n",
       "      <td>17.5</td>\n",
       "      <td>5.4</td>\n",
       "      <td>NaN</td>\n",
       "      <td>NaN</td>\n",
       "      <td>NaN</td>\n",
       "      <td>NaN</td>\n",
       "      <td>5942000.0</td>\n",
       "      <td>%</td>\n",
       "    </tr>\n",
       "    <tr>\n",
       "      <th>164</th>\n",
       "      <td>Vanuatu</td>\n",
       "      <td>0.2424</td>\n",
       "      <td>0.0793</td>\n",
       "      <td>6.6244</td>\n",
       "      <td>0.0000</td>\n",
       "      <td>6.4102</td>\n",
       "      <td>0.1875</td>\n",
       "      <td>2.1649</td>\n",
       "      <td>5.8103</td>\n",
       "      <td>2.7466</td>\n",
       "      <td>...</td>\n",
       "      <td>3.9175</td>\n",
       "      <td>43.3737</td>\n",
       "      <td>23.5</td>\n",
       "      <td>7.2</td>\n",
       "      <td>NaN</td>\n",
       "      <td>NaN</td>\n",
       "      <td>NaN</td>\n",
       "      <td>NaN</td>\n",
       "      <td>313000.0</td>\n",
       "      <td>%</td>\n",
       "    </tr>\n",
       "  </tbody>\n",
       "</table>\n",
       "<p>170 rows × 32 columns</p>\n",
       "</div>"
      ],
      "text/plain": [
       "                              Country  Alcoholic Beverages  Animal fats  \\\n",
       "106                           Namibia               5.4716       0.1134   \n",
       "130  Saint Vincent and the Grenadines               2.5260       0.0220   \n",
       "129                       Saint Lucia               7.8024       0.0252   \n",
       "128             Saint Kitts and Nevis               4.0867       0.1735   \n",
       "150                       Timor-Leste               0.4459       0.0897   \n",
       "..                                ...                  ...          ...   \n",
       "109                     New Caledonia               5.0363       0.0821   \n",
       "131                             Samoa               1.4236       0.2262   \n",
       "139                   Solomon Islands               0.8298       0.1038   \n",
       "155                      Turkmenistan               0.5038       0.3373   \n",
       "164                           Vanuatu               0.2424       0.0793   \n",
       "\n",
       "     Animal Products  Aquatic Products, Other  Cereals - Excluding Beer  \\\n",
       "106           9.6094                   0.0053                    9.9189   \n",
       "130          11.0865                   0.0000                    9.0142   \n",
       "129          14.8893                   0.0009                    7.2091   \n",
       "128          14.0252                   0.0000                    6.3135   \n",
       "150           5.4983                   0.0000                   26.3320   \n",
       "..               ...                      ...                       ...   \n",
       "109          11.7818                   0.0804                    8.5840   \n",
       "131          11.1630                   0.1236                    3.6768   \n",
       "139           3.8504                   0.0121                    9.0233   \n",
       "155          16.0611                   0.0000                   14.8029   \n",
       "164           6.6244                   0.0000                    6.4102   \n",
       "\n",
       "       Eggs  Fish, Seafood  Fruits - Excluding Wine    Meat  ...  Vegetables  \\\n",
       "106  0.1196         1.0164                   3.1266  2.6844  ...      2.3626   \n",
       "130  0.3412         1.3785                  10.4710  6.9184  ...      5.1371   \n",
       "129  0.3326         3.0652                   5.9453  8.1700  ...      4.1169   \n",
       "128  0.3868         3.4174                   7.5449  7.8207  ...      4.2090   \n",
       "150  0.1025         1.0225                   2.1027  4.0376  ...      3.1867   \n",
       "..      ...            ...                      ...     ...  ...         ...   \n",
       "109  0.7494         2.0361                   5.5855  5.8687  ...      5.5941   \n",
       "131  0.1314         2.7788                  10.7845  5.7993  ...      1.1656   \n",
       "139  0.0826         2.2840                   3.2798  0.8897  ...      1.1223   \n",
       "155  0.5139         0.2137                   4.1441  4.3767  ...     10.4014   \n",
       "164  0.1875         2.1649                   5.8103  2.7466  ...      3.9175   \n",
       "\n",
       "     Vegetal Products  Obesity  Undernourished  Confirmed  Deaths  Recovered  \\\n",
       "106           40.3800     15.0            27.3   0.007335     0.0   0.000962   \n",
       "130           38.9005     23.8             5.7   0.026126     0.0   0.026126   \n",
       "129           35.0964     19.8             NaN   0.010556     0.0   0.010556   \n",
       "128           35.9677     23.1             NaN   0.028302     0.0   0.028302   \n",
       "150           44.5030      2.9            24.9   0.001856     0.0   0.001856   \n",
       "..                ...      ...             ...        ...     ...        ...   \n",
       "109           38.2208      NaN             7.1        NaN     NaN        NaN   \n",
       "131           38.8349     45.5             2.7        NaN     NaN        NaN   \n",
       "139           46.1492     20.5             8.9        NaN     NaN        NaN   \n",
       "155           33.9389     17.5             5.4        NaN     NaN        NaN   \n",
       "164           43.3737     23.5             7.2        NaN     NaN        NaN   \n",
       "\n",
       "       Active  Population  Unit (all except Population)  \n",
       "106  0.006373   2495000.0                             %  \n",
       "130  0.000000    111000.0                             %  \n",
       "129  0.000000    180000.0                             %  \n",
       "128  0.000000     53000.0                             %  \n",
       "150  0.000000   1293000.0                             %  \n",
       "..        ...         ...                           ...  \n",
       "109       NaN    291000.0                             %  \n",
       "131       NaN    199000.0                             %  \n",
       "139       NaN    699000.0                             %  \n",
       "155       NaN   5942000.0                             %  \n",
       "164       NaN    313000.0                             %  \n",
       "\n",
       "[170 rows x 32 columns]"
      ]
     },
     "execution_count": 57,
     "metadata": {},
     "output_type": "execute_result"
    }
   ],
   "source": [
    "# Urutkan (sorting) dan print hasil sorting\n",
    "# Code here\n",
    "df_food_sorted = df_food.sort_values(by=['Deaths'])\n",
    "df_food_sorted"
   ]
  },
  {
   "cell_type": "code",
   "execution_count": 62,
   "metadata": {
    "colab": {},
    "colab_type": "code",
    "id": "FnohMVQwP8Og"
   },
   "outputs": [
    {
     "data": {
      "text/plain": [
       "106                             Namibia\n",
       "130    Saint Vincent and the Grenadines\n",
       "129                         Saint Lucia\n",
       "128               Saint Kitts and Nevis\n",
       "150                         Timor-Leste\n",
       "                     ...               \n",
       "109                       New Caledonia\n",
       "131                               Samoa\n",
       "139                     Solomon Islands\n",
       "155                        Turkmenistan\n",
       "164                             Vanuatu\n",
       "Name: Country, Length: 170, dtype: object"
      ]
     },
     "execution_count": 62,
     "metadata": {},
     "output_type": "execute_result"
    }
   ],
   "source": [
    "# Urutan ke berapakah Indonesia\n",
    "# Code here\n",
    "df_food_sorted['Country']"
   ]
  },
  {
   "cell_type": "code",
   "execution_count": null,
   "metadata": {
    "colab": {},
    "colab_type": "code",
    "id": "OAzky41S6eAm"
   },
   "outputs": [],
   "source": [
    "# Berapa persen jumlah kematian di Indonesia? Berapa Jumlahnya?\n",
    "# Code here\n",
    "meninggal_persen = \n",
    "meninggal = \n",
    "\n",
    "print(f'Jumlah yang meninggal di Indonesia ada {round(meninggal_persen, 10)}% dari jumlah populasi.') # 10 digit\n",
    "print(f'Jumlah yang meninggal di Indonesia ada {round(meninggal)} orang.')"
   ]
  },
  {
   "cell_type": "markdown",
   "metadata": {
    "colab_type": "text",
    "id": "Ur4P17eNVIDU"
   },
   "source": [
    "---"
   ]
  },
  {
   "cell_type": "markdown",
   "metadata": {
    "colab_type": "text",
    "id": "zOvEqSmuUsXy"
   },
   "source": [
    "# Soal 4: Binning, Grouping, dan Aggregating data"
   ]
  },
  {
   "cell_type": "markdown",
   "metadata": {
    "colab_type": "text",
    "id": "mLxskYLCTYFT"
   },
   "source": [
    "Lakukan binning pada kolom terkonfirmasi (Confirmed) COVID-19 dari DataFrame df_fat menjadi 5 bagian (q=5). Teman-teman dapat menggunakan fungsi qcut untuk melakukan bininng ini. Masukan data hasil binning tersebut menjadi kolom baru pada DataFrame df_fat. Beri nama kolom tersebut dengan 'Confirmed Category'. Berikan label 'Sangat Tidak Banyak', 'Tidak Banyak', 'Sedang', 'Cukup Banyak', 'Sangat Banyak'.\n",
    "\n",
    "Baca dokumentasi berikut untuk fungsi qcut : https://pandas.pydata.org/pandas-docs/stable/reference/api/pandas.qcut.html\n",
    "\n",
    "Kemudian lakukan perintah-perintah berikut:\n",
    "- Buat DataFrame baru yang berisi data grouping berdasarkan kolom hasil bininng atau kolom 'Confirmed Category'. \n",
    "- Lakukan grouping hanya pada kolom 'Obesity', 'Meat', 'Fruits - Excluding Wine', 'Fish, Seafood', 'Animal Products', 'Vegetal Products' saja.\n",
    "- Kemudian aggregate dengan fungsi mean. (df_baru = df_fat.groupby(...).mean())\n",
    "- Save DataFrame hasil binning, grouping, dan aggregating ke dalam file csv."
   ]
  },
  {
   "cell_type": "code",
   "execution_count": null,
   "metadata": {
    "colab": {},
    "colab_type": "code",
    "id": "l8o8Gu2If9N6"
   },
   "outputs": [],
   "source": [
    "# Lakukan binning pada kolom terkonfirmasi untuk DataFrame df_fat\n",
    "labels = ['Sangat Tidak Banyak', 'Tidak Banyak', 'Sedang', 'Cukup Banyak', 'Sangat Banyak']\n",
    "\n",
    "# Code here\n",
    "df_fat['Confirmed Category'] = ..."
   ]
  },
  {
   "cell_type": "code",
   "execution_count": null,
   "metadata": {
    "colab": {},
    "colab_type": "code",
    "id": "wH_Twtg9gLHZ"
   },
   "outputs": [],
   "source": [
    "# Lakukan grouping pada kolom hasil binning ('Confirmed Category'), kemudian aggregate menggunakan fungsi mean\n",
    "cols = ['Obesity', 'Meat', 'Fruits - Excluding Wine', 'Fish, Seafood', 'Animal Products', 'Vegetal Products']\n",
    "\n",
    "# Code here\n",
    "groupby_confirmed = ...\n",
    "groupby_confirmed"
   ]
  },
  {
   "cell_type": "markdown",
   "metadata": {
    "colab_type": "text",
    "id": "uoPr2JSfwi5x"
   },
   "source": [
    "Expected output:\n",
    "![Expected Output:](https://drive.google.com/uc?id=1jw1uGaSHaKlY9ILghmTTlO9NqhQpq8Ad)"
   ]
  },
  {
   "cell_type": "code",
   "execution_count": null,
   "metadata": {
    "colab": {},
    "colab_type": "code",
    "id": "ylCxhoZIhQ1J"
   },
   "outputs": [],
   "source": [
    "# Save DataFrame hasil binning, grouping, dan aggregating\n",
    "\n",
    "groupby_confirmed.to_csv('groupby_confirmed.csv')"
   ]
  },
  {
   "cell_type": "markdown",
   "metadata": {
    "colab_type": "text",
    "id": "QXt4J6-ki7yV"
   },
   "source": [
    "---"
   ]
  },
  {
   "cell_type": "markdown",
   "metadata": {
    "colab_type": "text",
    "id": "KYkVllUIi9gk"
   },
   "source": [
    "# Soal 5: Bar plot"
   ]
  },
  {
   "cell_type": "markdown",
   "metadata": {
    "colab_type": "text",
    "id": "oW_a_78Fjkbx"
   },
   "source": [
    "Gunakan data grouping pada soal sebelumnya untuk melakukan visualisasi. Jika kalian tidak dapat menyelesaikan soal tersebut, maka silahkan [download](https://drive.google.com/uc?export=download&id=1l5wFAKKShPQQvIe0rQ7C4Xog9tt_WDN0) data berikut yang merupakan hasil dari data grouping soal 4.\n",
    "\n",
    "Normalisasi data hasil grouping tersebut dengan rumus min-max normalisasi seperti rumus berikut ini. Kemudian buatlah grouping Visualization dengan berplot, visualisasikan data column 'Obesity', 'Fruits - Excluding Wine', 'Fish, Seafood', 'Animal Products' dan 'Vegetal Products'. "
   ]
  },
  {
   "cell_type": "markdown",
   "metadata": {
    "colab_type": "text",
    "id": "884pC4nnWZVg"
   },
   "source": [
    "\\begin{equation*}\n",
    " X_{norm} = \\dfrac{X - X_{min}}{X_{max} - X_{min}}\n",
    "\\end{equation*}\n"
   ]
  },
  {
   "cell_type": "code",
   "execution_count": null,
   "metadata": {
    "colab": {},
    "colab_type": "code",
    "id": "-5tpx0PNlUQx"
   },
   "outputs": [],
   "source": [
    "# Gunakan DataFrame hasil grouping soal 4 atau read data hasil download jika tidak dapat mengerjakan soal 4\n",
    "df = groupby_confirmed\n",
    "\n",
    "# Atau\n",
    "\n",
    "df = pd.read_csv('groupby_confirmed.csv').set_index('Confirmed Category')\n",
    "\n",
    "# Lihat df dan pastikan sesuai dengan expected output pada soal 4\n",
    "display(df)"
   ]
  },
  {
   "cell_type": "code",
   "execution_count": null,
   "metadata": {
    "colab": {},
    "colab_type": "code",
    "id": "nokTOpibmhD0"
   },
   "outputs": [],
   "source": [
    "# Lakukan normalisasi pada DataFrame df\n",
    "# Code here\n",
    "df_norm = \n",
    "\n",
    "# Lihat df_norm dan pastikan sesuai dengan expected output\n",
    "display(df_norm)"
   ]
  },
  {
   "cell_type": "markdown",
   "metadata": {
    "colab_type": "text",
    "id": "37rjPjbanRNY"
   },
   "source": [
    "Expected output:\n",
    "![Expected Output:](https://drive.google.com/uc?id=1BFzcOFHbZMnw0wqbwl8K6IEiVmurqG84)"
   ]
  },
  {
   "cell_type": "code",
   "execution_count": null,
   "metadata": {
    "colab": {},
    "colab_type": "code",
    "id": "lMzOW9t7nU-I"
   },
   "outputs": [],
   "source": [
    "# Buat bar plot dari df_norm sesuai dengan expected output\n",
    "# Code here\n",
    "\n",
    "\n",
    "# Untuk menambahkan label di atas barplot lihat https://matplotlib.org/3.1.1/gallery/lines_bars_and_markers/barchart.html\n",
    "\n",
    "# fig.legend()\n",
    "# plt.show()"
   ]
  },
  {
   "cell_type": "markdown",
   "metadata": {
    "colab_type": "text",
    "id": "FIul1KSeoMsh"
   },
   "source": [
    "Expected output:\n",
    "![Expected Output:](https://drive.google.com/uc?id=11x5OMAB8mbZurD0qntxcwOcWYCQSegy8)\n"
   ]
  },
  {
   "cell_type": "markdown",
   "metadata": {
    "colab_type": "text",
    "id": "KZJq0YxNp7bM"
   },
   "source": [
    "---"
   ]
  },
  {
   "cell_type": "markdown",
   "metadata": {
    "colab_type": "text",
    "id": "LoJ9IXHBp890"
   },
   "source": [
    "# Soal 6: Scatter plot\n"
   ]
  },
  {
   "cell_type": "markdown",
   "metadata": {
    "colab_type": "text",
    "id": "5sQPxjyIrrkM"
   },
   "source": [
    "Buatlah visualisasi scatter plot dari df_food antara Supply Sayuran ('Vegetal Products') dan persentase terkonfirmasi ('Confirmed') COVID-19 sesuai expected output dengan ketentuan berikut:\n",
    "\n",
    "\n",
    "* Gunakan kolom persentase kematian ('Death') sebagai ukuran pointnya kalikan suatu angka yang cukup besar agar terlihat.\n",
    "    \n",
    "* Gunakan kolom persentase produk hewani ('Animal Products') sebagai warna point, berikan colormap 'viridis'."
   ]
  },
  {
   "cell_type": "code",
   "execution_count": null,
   "metadata": {
    "colab": {},
    "colab_type": "code",
    "id": "8-nxlX2zp8Lw"
   },
   "outputs": [],
   "source": [
    "fig, ax = plt.subplots(figsize=(18, 12))\n",
    "\n",
    "# Code here\n",
    "\n",
    "plt.show()"
   ]
  },
  {
   "cell_type": "markdown",
   "metadata": {
    "colab_type": "text",
    "id": "aBr40jb0uXSg"
   },
   "source": [
    "Expected output:\n",
    "![Expected Output:](https://drive.google.com/uc?id=1wJh3tfkPbrkf3_F73RW0kABBt_NO8q53)"
   ]
  }
 ],
 "metadata": {
  "colab": {
   "authorship_tag": "ABX9TyOIzMCQPPRhLt9bnYEJxo5m",
   "collapsed_sections": [],
   "name": "Quiz Pekan - 3.ipynb",
   "provenance": []
  },
  "kernelspec": {
   "display_name": "Python 3",
   "language": "python",
   "name": "python3"
  },
  "language_info": {
   "codemirror_mode": {
    "name": "ipython",
    "version": 3
   },
   "file_extension": ".py",
   "mimetype": "text/x-python",
   "name": "python",
   "nbconvert_exporter": "python",
   "pygments_lexer": "ipython3",
   "version": "3.7.6"
  }
 },
 "nbformat": 4,
 "nbformat_minor": 1
}
