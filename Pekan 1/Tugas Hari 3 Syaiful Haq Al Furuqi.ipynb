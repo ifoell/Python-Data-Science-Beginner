{
 "cells": [
  {
   "cell_type": "markdown",
   "metadata": {
    "colab_type": "text",
    "id": "a9HYUdCUsrKl"
   },
   "source": [
    "<h2>Soal 1: Comparison Operator</h2>\n",
    "\n",
    "- Berikan contoh comparison dari tipe data string\n",
    "- Berikan contoh comparison dari tipe data boolean\n",
    "- Berikan contoh comparison dari tipe data integer"
   ]
  },
  {
   "cell_type": "code",
   "execution_count": 37,
   "metadata": {
    "colab": {},
    "colab_type": "code",
    "id": "lXMCHZ71srKp"
   },
   "outputs": [
    {
     "name": "stdout",
     "output_type": "stream",
     "text": [
      "string \"ini string 1\" tidak sama dengan string \"ini string 2\"\n",
      "string \"ini string 1\" sama dengan string \"ini string 1\"\n",
      "====================================================================================================\n",
      "True and False adalah False\n",
      "True or False adalah True\n",
      "not True adalah False\n",
      "not False adalah True\n",
      "====================================================================================================\n",
      "angka 10 kurang dari angka 13\n",
      "angka 10 lebih dari angka 9\n",
      "angka 9 sama dengan angka 9\n"
     ]
    }
   ],
   "source": [
    "# comparison tipe data string\n",
    "def comparison_string(string_1, string_2):\n",
    "    if string_1 == string_2:\n",
    "        print(f'string \"{string_1}\" sama dengan string \"{string_2}\"')\n",
    "    else:\n",
    "        print(f'string \"{string_1}\" tidak sama dengan string \"{string_2}\"')\n",
    "\n",
    "comparison_string(\"ini string 1\", \"ini string 2\")\n",
    "comparison_string(\"ini string 1\", \"ini string 1\")\n",
    "print(\"=\"*100)\n",
    "\n",
    "# comparison tipe data boolean\n",
    "def comparison_boolean(bool_1, bool_2):\n",
    "    print(bool_1, \"and\", bool_2, \"adalah\", bool_1 and bool_2)\n",
    "    print(bool_1, \"or\", bool_2, \"adalah\", bool_1 or bool_2)\n",
    "    print(\"not\", bool_1, \"adalah\", not bool_1)\n",
    "    print(\"not\", bool_2, \"adalah\", not bool_2)\n",
    "\n",
    "comparison_boolean(True, False)\n",
    "print(\"=\"*100)\n",
    "\n",
    "#comparison tipe data integer\n",
    "def comparison_integer(int_1, int_2):\n",
    "    if int_1 > int_2:\n",
    "        print(f'angka {int_1} lebih dari angka {int_2}')\n",
    "    elif int_1 < int_2:\n",
    "        print(f'angka {int_1} kurang dari angka {int_2}')\n",
    "    elif int_1 == int_2:\n",
    "        print(f'angka {int_1} sama dengan angka {int_2}')\n",
    "    else:\n",
    "        print('sepertinya anda tidak memasukkan angka yang benar')\n",
    "\n",
    "comparison_integer(10,13)\n",
    "comparison_integer(10,9)\n",
    "comparison_integer(9,9)"
   ]
  },
  {
   "cell_type": "markdown",
   "metadata": {
    "colab_type": "text",
    "id": "IbNoZvVssrK5"
   },
   "source": [
    "<h2>Soal 2: Boolean Comparison</h2>\n",
    "\n",
    "- Berikan contoh gabungan multiple comparison menggunkan Boolean Comparisin 'and'\n",
    "- Berikan contoh gabungan multiple comparison menggunkan Boolean Comparisin 'or'\n",
    "- Berikan contoh gabungan multiple comparison menggunkan Boolean Comparisin 'not'"
   ]
  },
  {
   "cell_type": "code",
   "execution_count": 65,
   "metadata": {
    "colab": {},
    "colab_type": "code",
    "id": "7eU1vPLCsrK7"
   },
   "outputs": [
    {
     "name": "stdout",
     "output_type": "stream",
     "text": [
      "True and False adalah False\n",
      "True or False adalah True\n",
      "not True adalah False\n",
      "not False adalah True\n"
     ]
    }
   ],
   "source": [
    "bool_1 = True\n",
    "bool_2 = False\n",
    "\n",
    "print(bool_1, \"and\", bool_2, \"adalah\", bool_1 and bool_2)\n",
    "print(bool_1, \"or\", bool_2, \"adalah\", bool_1 or bool_2)\n",
    "print(\"not\", bool_1, \"adalah\", not bool_1)\n",
    "print(\"not\", bool_2, \"adalah\", not bool_2)"
   ]
  },
  {
   "cell_type": "markdown",
   "metadata": {
    "colab_type": "text",
    "id": "Yp_g_sPMsrLH"
   },
   "source": [
    "<h2>Soal 3: If-Else Statement</h2>\n",
    "\n",
    "Lengkapi kode untuk menghasilkan suatu output yang di harapkan\n",
    "\n",
    "- Bualah sebuah if-else statement yang dimana akan mem-print 'Besar' jika ruangan adalah 'Kamar' dan ukuran lebih dari 12, kemudian mem-print 'Sedang' jika ruangan adalah 'Kamar' dan ukuran lebih dari 6 dan memprint 'Kecil' jika ruangan adalah 'Kamar' dan ukuran ruangan lebih kecil dan sama dengan 6."
   ]
  },
  {
   "cell_type": "code",
   "execution_count": 67,
   "metadata": {
    "colab": {},
    "colab_type": "code",
    "id": "euRiRNupsrLK"
   },
   "outputs": [
    {
     "name": "stdout",
     "output_type": "stream",
     "text": [
      "Besar\n"
     ]
    }
   ],
   "source": [
    "ruangan = 'Kamar'\n",
    "size = 20\n",
    "\n",
    "if ruangan == 'Kamar' and size > 12:\n",
    "    print('Besar')\n",
    "elif ruangan == 'Kamar' and size > 6:\n",
    "    print('Sedang')\n",
    "elif ruangan == 'Kamar' and size < 6:\n",
    "    print('Kecil')\n",
    "else:\n",
    "    print('ruangan yang anda masukkan bukanlah Kamar')"
   ]
  },
  {
   "cell_type": "markdown",
   "metadata": {
    "colab_type": "text",
    "id": "IcoJXJT1srLW"
   },
   "source": [
    "<h2>Soal 4: Comparison Operator dengan fungsi</h2>\n",
    "\n",
    "Buatlah sebuah fungsi yang menerima satu argument bertipe data numeric dan menghasilkan sebuah return sebagai berikut :\n",
    "- menghasilkan return 'Aneh' jika nilai dari argument tersebut adalah bilangan ganjil\n",
    "- menghasilkan return 'Tidak Aneh' jika nilai dari argument tersebut adalah bilangan genap dan diantara nilai 2 sampai 5 (2 dan 5 termasuk)\n",
    "- menghasilkan return 'Aneh' jika nilai dari argument tersebut adalah bilangan genap dan diantara nilai 6 sampai 20 (6 dan 20 termasuk)\n",
    "- menghasilkan return 'Tidak Aneh' jika nilai dari argument tersebut adalah bilangan genap dan lebih besari dari 20"
   ]
  },
  {
   "cell_type": "code",
   "execution_count": 45,
   "metadata": {
    "colab": {},
    "colab_type": "code",
    "id": "g8F_qfEKsrLZ"
   },
   "outputs": [
    {
     "name": "stdout",
     "output_type": "stream",
     "text": [
      "Aneh\n",
      "Tidak Aneh\n",
      "Aneh\n",
      "Tidak Aneh\n"
     ]
    }
   ],
   "source": [
    "def strange_num(num):\n",
    "    if num % 2 == 1:\n",
    "        return 'Aneh'\n",
    "    else:\n",
    "        if 2 <= num <= 5:\n",
    "            return 'Tidak Aneh'\n",
    "        elif 6 <= num <= 20:\n",
    "            return 'Aneh'\n",
    "        else:\n",
    "            return 'Tidak Aneh'\n",
    "        \n",
    "print(strange_num(3))\n",
    "print(strange_num(4))\n",
    "print(strange_num(8))\n",
    "print(strange_num(34))"
   ]
  },
  {
   "cell_type": "markdown",
   "metadata": {
    "colab_type": "text",
    "id": "gf0D64xOsrLl"
   },
   "source": [
    "<h2>Soal 5: While Loop dan For Loop</h2>\n",
    "\n",
    "- Apa perbedaan while loop dan for loop?\n",
    "- Berikan contoh sederhana cara menggunakan while loop dan for loop"
   ]
  },
  {
   "cell_type": "code",
   "execution_count": 58,
   "metadata": {
    "colab": {},
    "colab_type": "code",
    "id": "l7KIgpjHsrLo"
   },
   "outputs": [
    {
     "name": "stdout",
     "output_type": "stream",
     "text": [
      "Perbedaannya adalah jika While loop penggunaannya harus mendeklarasikan penambahan angka iterasi atau step, \n",
      "sedangkan For loop penggunaannya tidak harus mendeklarasikan penambahan angka iterasi atau step\n",
      "contohnya :\n",
      "while loop berada pada 0\n",
      "while loop berada pada 1\n",
      "while loop berada pada 2\n",
      "while loop berada pada 3\n",
      "while loop berada pada 4\n",
      "\n",
      "while loop harus mendeklarasikan penambahan angka iterasi atau step, dalam contoh di atas adalah i+=1\n",
      "\n",
      "========================================================================================================================\n",
      "\n",
      "for loop berada pada 0\n",
      "for loop berada pada 1\n",
      "for loop berada pada 2\n",
      "for loop berada pada 3\n",
      "for loop berada pada 4\n",
      "\n",
      "for loop tidak harus mendeklarasikan penambahan angka iterasi atau step,\n",
      "seperti while loop yang dalam contoh di atas adalah i+=1\n"
     ]
    }
   ],
   "source": [
    "# Tulis Kode\n",
    "while_loop = \"While loop penggunaannya harus mendeklarasikan penambahan angka iterasi atau step\"\n",
    "for_loop = \"For loop penggunaannya tidak harus mendeklarasikan penambahan angka iterasi atau step\"\n",
    "print(f'Perbedaannya adalah jika {while_loop}, \\nsedangkan {for_loop}')\n",
    "print(\"contohnya :\")\n",
    "i = 0\n",
    "while i < 5:\n",
    "    print(f'while loop berada pada {i}')\n",
    "    i+=1\n",
    "print(\"\")\n",
    "print(\"while loop harus mendeklarasikan penambahan angka iterasi atau step, dalam contoh di atas adalah i+=1\")\n",
    "print(\"\")\n",
    "\n",
    "print(\"=\" * 120)\n",
    "print(\"\")\n",
    "\n",
    "for angka in range(0,5,1):\n",
    "    print(f'for loop berada pada {angka}')\n",
    "print(\"\")\n",
    "print(\"for loop tidak harus mendeklarasikan penambahan angka iterasi atau step,\\nseperti while loop yang dalam contoh di atas adalah i+=1\")"
   ]
  },
  {
   "cell_type": "markdown",
   "metadata": {
    "colab_type": "text",
    "id": "fZQpBGCgsrLz"
   },
   "source": [
    "<h2>Soal 6: While Loop</h2>\n",
    "    \n",
    "Buatlah sebuah code while loop sebagai berikut :\n",
    "- Buatlah suatu fungsi yang merima satu input nilai numeric\n",
    "- Dalam fungsi, Buat sebuah while-loop dengan melakukan comparasi terhadap inputan tersebut, dimana looping/iterasi terus berjalan apabila nilai inputan tidak sama dengan 0\n",
    "- Dalam setiap iterasi update nilai variable inputan itu, jika input lebih dari 0, maka kurangi variabel tersebut sebesar 1, selain itu tambahkan 1\n",
    "- print nilai variable input dalam setiap awal iterasi"
   ]
  },
  {
   "cell_type": "code",
   "execution_count": 62,
   "metadata": {
    "colab": {},
    "colab_type": "code",
    "id": "yOiqjrU2srL1"
   },
   "outputs": [
    {
     "name": "stdout",
     "output_type": "stream",
     "text": [
      "10 \n",
      "\n",
      "9 \n",
      "\n",
      "8 \n",
      "\n",
      "7 \n",
      "\n",
      "6 \n",
      "\n",
      "5 \n",
      "\n",
      "4 \n",
      "\n",
      "3 \n",
      "\n",
      "2 \n",
      "\n",
      "1 \n",
      "\n"
     ]
    }
   ],
   "source": [
    "a = 10\n",
    "\n",
    "def fungsi_while(angka):\n",
    "    while angka > 0 :\n",
    "        print(angka, '\\n')\n",
    "        angka -= 1\n",
    "\n",
    "fungsi_while(a)"
   ]
  },
  {
   "cell_type": "markdown",
   "metadata": {
    "colab_type": "text",
    "id": "lKzngRrlsrMD"
   },
   "source": [
    "Expected Output:\n",
    "\n",
    "10\n",
    "\n",
    "9\n",
    "\n",
    "8\n",
    "\n",
    "7\n",
    "\n",
    "6\n",
    "\n",
    "5\n",
    "\n",
    "4\n",
    "\n",
    "3\n",
    "\n",
    "2\n",
    "\n",
    "1"
   ]
  },
  {
   "cell_type": "markdown",
   "metadata": {
    "colab_type": "text",
    "id": "IWg3Z_zZsrMG"
   },
   "source": [
    "<h2>Soal 7: For Loop</h2>\n",
    "    \n",
    "Lengkapi kode untuk menghasilkan suatu output yang di harapkan:\n",
    "\n",
    "- Buatlah sebuah loop dengan mengiterasi sebuah objek list kemudian di kalikan dengan index dari list tersebut dan print hasilnya"
   ]
  },
  {
   "cell_type": "code",
   "execution_count": 64,
   "metadata": {
    "colab": {},
    "colab_type": "code",
    "id": "_Jl5i7WKsrMI"
   },
   "outputs": [
    {
     "name": "stdout",
     "output_type": "stream",
     "text": [
      "0 \n",
      "\n",
      "16 \n",
      "\n",
      "22 \n",
      "\n",
      "30 \n",
      "\n",
      "20 \n",
      "\n"
     ]
    }
   ],
   "source": [
    "obj_list= [1, 16, 11, 10, 5]\n",
    "\n",
    "# lengkapi code di bawah\n",
    "for i,angka in enumerate(obj_list):\n",
    "    print(i * angka, '\\n')\n"
   ]
  },
  {
   "cell_type": "markdown",
   "metadata": {
    "colab_type": "text",
    "id": "OGawROjnsrMU"
   },
   "source": [
    "Expected Output:\n",
    "\n",
    "0\n",
    "\n",
    "16\n",
    "\n",
    "22\n",
    "\n",
    "30\n",
    "\n",
    "20\n"
   ]
  }
 ],
 "metadata": {
  "colab": {
   "name": "Tugas Hari 4.ipynb",
   "provenance": []
  },
  "kernelspec": {
   "display_name": "Python 3",
   "language": "python",
   "name": "python3"
  },
  "language_info": {
   "codemirror_mode": {
    "name": "ipython",
    "version": 3
   },
   "file_extension": ".py",
   "mimetype": "text/x-python",
   "name": "python",
   "nbconvert_exporter": "python",
   "pygments_lexer": "ipython3",
   "version": "3.7.6"
  }
 },
 "nbformat": 4,
 "nbformat_minor": 1
}
