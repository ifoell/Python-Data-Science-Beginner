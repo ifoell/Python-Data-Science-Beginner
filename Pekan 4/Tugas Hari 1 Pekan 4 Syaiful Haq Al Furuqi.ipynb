{
 "cells": [
  {
   "cell_type": "markdown",
   "metadata": {
    "colab_type": "text",
    "id": "47NOwo3UNcRl"
   },
   "source": [
    "<h1>Soal 1: Pemahaman Machine Learning</h1>\n",
    "\n",
    "Jawab/Kerjakan pertanyaan/perintah di bawah ini dengan bahasa kalian sendiri:\n",
    "\n",
    "- Apa itu machine learning?\n",
    "- Apa itu data feature dan data target?\n",
    "- Apa Perbedaan Supervised Learning dan Unsupervised Learning?\n",
    "- Apa Jenis2 yang ada di dalam Supervised Learning? Jelaskan Perbedaannya!\n",
    "- Apa perbedaan Hyperparameter dan Parameter?\n",
    "- Sebutkan Langkah-langkah dalam mengaplikasikan algoritma apapun dalam machine learning!"
   ]
  },
  {
   "cell_type": "markdown",
   "metadata": {},
   "source": [
    "- Machine learning adalah metode yang digunakan untuk membuat sebuah program yang dapat belajar dari data yang sudah ada.\n",
    "- Feature atau dapat disebut predictor adalah variabel untuk memprediksi suatu kejadian. Data target atau dapat disebut label, adalah hasil prediksi dari variabel feature.\n",
    "- Perbedaannya adalah supervised learning adalah suatu pendekatan dimana terdapat data yang akan dilatih atau <i>training</i>, dan terdapat variabel yang akan menjadi tujuan akhir dari learning ini. Sedangkan unsupervised learning adalah pendekatan yang tidak memerlukan data untuk dilatih, dan hasil akhirnya hanya pengelompokan data tersebut menjadi 2 bagian, atau 3 bagian, atau seterusnya.\n",
    "- Jenis-jenisnya yaitu Classification memiliki output berupa class label, dan Regression memiliki output berupa Quantity yang Continues atau berkelanjutan.\n",
    "- Perbedaannya adalah jika Hyperparameter merupakan bagian dari Parameter, dan semua Parameter belum tentu Hyperparameter, dan Hyperparameter nilainya tidak diubah selama proses optimasi.\n",
    "- Langkah-langkahnya yaitu <br/>\n",
    "    1. Memilih model algoritma yang akan digunakan,\n",
    "    2. Memilih Hyperparameter,\n",
    "    3. Memisahkan data Feature dan Data Target,\n",
    "    4. Memerintahkan model untuk mempelajari data dengan method .fit(),\n",
    "    5. Mengaplikasikan model ke dalam data test dengan method .predict() untuk supervised learning, dan .predict() dan .transform() untuk unsupervised learning."
   ]
  },
  {
   "cell_type": "markdown",
   "metadata": {
    "colab_type": "text",
    "id": "58I1LJFoNcRv"
   },
   "source": [
    "---\n"
   ]
  },
  {
   "cell_type": "markdown",
   "metadata": {
    "colab_type": "text",
    "id": "jI50HJDgNcRz"
   },
   "source": [
    "<h1>Soal 2: Pemahaman Machine Learning</h1>\n",
    "\n",
    "Pelajarilah secara garis besar suatu model/algoritma machine learning, kemudian aplikasikan untuk membuat model bagi data (variable x, y) di bawah ini. Kemudian buatlah prediksi terhadap data training dan data baru di interval 20-30.\n",
    "\n",
    "- Plot data asli, data hasil prediksi terhadap data training, data hasil prediksi terhadap data baru\n",
    "- Tunjukan beberapa parameter yang dimiliki model yang telah kalian buat"
   ]
  },
  {
   "cell_type": "code",
   "execution_count": 1,
   "metadata": {
    "colab": {},
    "colab_type": "code",
    "id": "QotZc3UbNcR9",
    "outputId": "eac5b4f0-6932-446a-ebb2-5eaefadd583b"
   },
   "outputs": [
    {
     "data": {
      "image/png": "[encoded data removed]",
      "text/plain": [
       "<Figure size 864x432 with 1 Axes>"
      ]
     },
     "metadata": {
      "needs_background": "light"
     },
     "output_type": "display_data"
    }
   ],
   "source": [
    "import matplotlib.pyplot as plt\n",
    "import numpy as np\n",
    "\n",
    "rng = np.random.RandomState(42)\n",
    "x = 20 * rng.rand(50)\n",
    "y = x**2 + 2 * x + - 1 + rng.randn(50)\n",
    "\n",
    "# data yang akan di prediksi\n",
    "x_new = np.arange(20, 30, 0.5)\n",
    "\n",
    "fig, ax = plt.subplots(figsize=(12, 6))\n",
    "ax.scatter(x, y)\n",
    "ax.set_xlabel('X-Value')\n",
    "ax.set_ylabel('Y-Value')\n",
    "plt.show()"
   ]
  },
  {
   "cell_type": "markdown",
   "metadata": {
    "colab_type": "text",
    "id": "3wrMfFusNcS6"
   },
   "source": [
    "Contoh jawaban hasil pembuatan model dengan algoritma DecisionTreeRegressor (jawaban tidak harus sama):\n",
    "\n",
    "![alt text](https://drive.google.com/uc?id=1R0mGnMp3DqEsHDiH2_IL4XSS2Roew0wo)"
   ]
  },
  {
   "cell_type": "markdown",
   "metadata": {
    "colab_type": "text",
    "id": "4Vs7RhxRNcS_"
   },
   "source": [
    "Contoh jawaban parameters (tidak harus sama):\n",
    "\n",
    "- Feature Importance : array([1.])\n",
    "- n features : 1\n",
    "  \n",
    "Tree Graph :\n",
    "\n",
    "![alt text](https://drive.google.com/uc?id=1GM0ba_qjm_e5oLhE9v6pVt2uRBBW6FH9)"
   ]
  },
  {
   "cell_type": "code",
   "execution_count": 3,
   "metadata": {
    "colab": {},
    "colab_type": "code",
    "id": "AQKlYTdSbL9o"
   },
   "outputs": [],
   "source": [
    "from sklearn.tree import DecisionTreeRegressor"
   ]
  },
  {
   "cell_type": "code",
   "execution_count": 42,
   "metadata": {},
   "outputs": [],
   "source": [
    "model_dtr = DecisionTreeRegressor(max_depth=3)"
   ]
  },
  {
   "cell_type": "code",
   "execution_count": 8,
   "metadata": {},
   "outputs": [],
   "source": [
    "x_matrix = x[:, np.newaxis]"
   ]
  },
  {
   "cell_type": "code",
   "execution_count": 43,
   "metadata": {},
   "outputs": [
    {
     "data": {
      "text/plain": [
       "DecisionTreeRegressor(ccp_alpha=0.0, criterion='mse', max_depth=3,\n",
       "                      max_features=None, max_leaf_nodes=None,\n",
       "                      min_impurity_decrease=0.0, min_impurity_split=None,\n",
       "                      min_samples_leaf=1, min_samples_split=2,\n",
       "                      min_weight_fraction_leaf=0.0, presort='deprecated',\n",
       "                      random_state=None, splitter='best')"
      ]
     },
     "execution_count": 43,
     "metadata": {},
     "output_type": "execute_result"
    }
   ],
   "source": [
    "dtr_fit = model_dtr.fit(x_matrix, y)\n",
    "dtr_fit"
   ]
  },
  {
   "cell_type": "code",
   "execution_count": 13,
   "metadata": {},
   "outputs": [],
   "source": [
    "# data yang akan di prediksi\n",
    "x_new = np.arange(20, 30, 0.5)\n",
    "\n",
    "x_test = x_new[:, np.newaxis]"
   ]
  },
  {
   "cell_type": "code",
   "execution_count": 44,
   "metadata": {},
   "outputs": [],
   "source": [
    "y_test = model_dtr.predict(x_test)"
   ]
  },
  {
   "cell_type": "code",
   "execution_count": 24,
   "metadata": {},
   "outputs": [
    {
     "data": {
      "text/plain": [
       "array([386.58502854, 386.58502854, 386.58502854, 386.58502854,\n",
       "       386.58502854, 386.58502854, 386.58502854, 386.58502854,\n",
       "       386.58502854, 386.58502854, 386.58502854, 386.58502854,\n",
       "       386.58502854, 386.58502854, 386.58502854, 386.58502854,\n",
       "       386.58502854, 386.58502854, 386.58502854, 386.58502854])"
      ]
     },
     "execution_count": 24,
     "metadata": {},
     "output_type": "execute_result"
    }
   ],
   "source": [
    "y_test"
   ]
  },
  {
   "cell_type": "code",
   "execution_count": 25,
   "metadata": {},
   "outputs": [],
   "source": [
    "y_train = model_dtr.predict(x_matrix)"
   ]
  },
  {
   "cell_type": "code",
   "execution_count": 45,
   "metadata": {},
   "outputs": [
    {
     "data": {
      "image/png": "[encoded data removed]",
      "text/plain": [
       "<Figure size 864x432 with 1 Axes>"
      ]
     },
     "metadata": {
      "needs_background": "light"
     },
     "output_type": "display_data"
    }
   ],
   "source": [
    "plt.subplots(figsize=(12,6))\n",
    "plt.scatter(x, y, color='blue', label='Data Asli')\n",
    "plt.scatter(x, y_train, color='yellow', label='Prediksi terhadap Data Training')\n",
    "plt.plot(x_test, y_test, color='green', label='Prediksi terhadap Data Baru')\n",
    "plt.legend()\n",
    "plt.show()"
   ]
  },
  {
   "cell_type": "code",
   "execution_count": 19,
   "metadata": {},
   "outputs": [],
   "source": [
    "from sklearn.tree import plot_tree"
   ]
  },
  {
   "cell_type": "code",
   "execution_count": 41,
   "metadata": {},
   "outputs": [
    {
     "data": {
      "text/plain": [
       "[Text(167.4, 181.2, 'X[0] <= 12.744\\nmse = 15993.388\\nsamples = 50\\nvalue = 129.087'),\n",
       " Text(83.7, 108.72, 'X[0] <= 8.065\\nmse = 3370.867\\nsamples = 37\\nvalue = 64.087'),\n",
       " Text(41.85, 36.23999999999998, 'mse = 424.568\\nsamples = 24\\nvalue = 25.148'),\n",
       " Text(125.55000000000001, 36.23999999999998, 'mse = 843.286\\nsamples = 13\\nvalue = 135.974'),\n",
       " Text(251.10000000000002, 108.72, 'X[0] <= 16.986\\nmse = 5668.677\\nsamples = 13\\nvalue = 314.088'),\n",
       " Text(209.25, 36.23999999999998, 'mse = 1502.746\\nsamples = 7\\nvalue = 251.947'),\n",
       " Text(292.95, 36.23999999999998, 'mse = 768.052\\nsamples = 6\\nvalue = 386.585')]"
      ]
     },
     "execution_count": 41,
     "metadata": {},
     "output_type": "execute_result"
    },
    {
     "data": {
      "image/png": "[encoded data removed]",
      "text/plain": [
       "<Figure size 432x288 with 1 Axes>"
      ]
     },
     "metadata": {
      "needs_background": "light"
     },
     "output_type": "display_data"
    }
   ],
   "source": [
    "plot_tree(dtr_fit)"
   ]
  },
  {
   "cell_type": "code",
   "execution_count": null,
   "metadata": {},
   "outputs": [],
   "source": []
  }
 ],
 "metadata": {
  "colab": {
   "collapsed_sections": [],
   "name": "Tugas Hari 1 Pekan 4.ipynb",
   "provenance": []
  },
  "kernelspec": {
   "display_name": "Python 3",
   "language": "python",
   "name": "python3"
  },
  "language_info": {
   "codemirror_mode": {
    "name": "ipython",
    "version": 3
   },
   "file_extension": ".py",
   "mimetype": "text/x-python",
   "name": "python",
   "nbconvert_exporter": "python",
   "pygments_lexer": "ipython3",
   "version": "3.7.6"
  }
 },
 "nbformat": 4,
 "nbformat_minor": 1
}
