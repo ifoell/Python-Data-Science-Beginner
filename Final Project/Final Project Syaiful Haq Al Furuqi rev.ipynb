{
 "cells": [
  {
   "cell_type": "code",
   "execution_count": 1,
   "metadata": {},
   "outputs": [],
   "source": [
    "import pandas as pd\n",
    "import matplotlib.pyplot as plt\n",
    "import numpy as np\n",
    "from sklearn.model_selection import train_test_split\n",
    "from sklearn.model_selection import cross_val_score\n",
    "from sklearn.model_selection import StratifiedKFold\n",
    "from sklearn.metrics import classification_report\n",
    "from sklearn.metrics import confusion_matrix\n",
    "from sklearn.metrics import accuracy_score\n",
    "from sklearn.linear_model import LogisticRegression\n",
    "from sklearn.tree import DecisionTreeClassifier\n",
    "from sklearn.neighbors import KNeighborsClassifier\n",
    "from sklearn.discriminant_analysis import LinearDiscriminantAnalysis\n",
    "from sklearn.naive_bayes import GaussianNB\n",
    "from sklearn.svm import SVC\n",
    "from sklearn.ensemble import RandomForestClassifier\n",
    "from sklearn.linear_model import Perceptron\n",
    "from sklearn.linear_model import SGDClassifier\n",
    "from sklearn.metrics import roc_auc_score"
   ]
  },
  {
   "cell_type": "code",
   "execution_count": 2,
   "metadata": {},
   "outputs": [],
   "source": [
    "df_train = pd.read_csv('train.csv', index_col=0)\n",
    "df_test = pd.read_csv('test.csv')"
   ]
  },
  {
   "cell_type": "code",
   "execution_count": 3,
   "metadata": {},
   "outputs": [
    {
     "data": {
      "text/html": [
       "<div>\n",
       "<style scoped>\n",
       "    .dataframe tbody tr th:only-of-type {\n",
       "        vertical-align: middle;\n",
       "    }\n",
       "\n",
       "    .dataframe tbody tr th {\n",
       "        vertical-align: top;\n",
       "    }\n",
       "\n",
       "    .dataframe thead th {\n",
       "        text-align: right;\n",
       "    }\n",
       "</style>\n",
       "<table border=\"1\" class=\"dataframe\">\n",
       "  <thead>\n",
       "    <tr style=\"text-align: right;\">\n",
       "      <th></th>\n",
       "      <th>Umur</th>\n",
       "      <th>Kelas Pekerja</th>\n",
       "      <th>Berat Akhir</th>\n",
       "      <th>Pendidikan</th>\n",
       "      <th>Jmlh Tahun Pendidikan</th>\n",
       "      <th>Status Perkawinan</th>\n",
       "      <th>Pekerjaan</th>\n",
       "      <th>Jenis Kelamin</th>\n",
       "      <th>Keuntungan Kapital</th>\n",
       "      <th>Kerugian Capital</th>\n",
       "      <th>Jam per Minggu</th>\n",
       "      <th>Gaji</th>\n",
       "    </tr>\n",
       "    <tr>\n",
       "      <th>id</th>\n",
       "      <th></th>\n",
       "      <th></th>\n",
       "      <th></th>\n",
       "      <th></th>\n",
       "      <th></th>\n",
       "      <th></th>\n",
       "      <th></th>\n",
       "      <th></th>\n",
       "      <th></th>\n",
       "      <th></th>\n",
       "      <th></th>\n",
       "      <th></th>\n",
       "    </tr>\n",
       "  </thead>\n",
       "  <tbody>\n",
       "    <tr>\n",
       "      <th>0</th>\n",
       "      <td>21</td>\n",
       "      <td>Wiraswasta</td>\n",
       "      <td>242912</td>\n",
       "      <td>SMA</td>\n",
       "      <td>9</td>\n",
       "      <td>Belum Pernah Menikah</td>\n",
       "      <td>Servis Lainnya</td>\n",
       "      <td>Perempuan</td>\n",
       "      <td>0.0</td>\n",
       "      <td>0.0</td>\n",
       "      <td>35.0</td>\n",
       "      <td>&lt;=7jt</td>\n",
       "    </tr>\n",
       "    <tr>\n",
       "      <th>1</th>\n",
       "      <td>49</td>\n",
       "      <td>Wiraswasta</td>\n",
       "      <td>140782</td>\n",
       "      <td>10th</td>\n",
       "      <td>6</td>\n",
       "      <td>Cerai</td>\n",
       "      <td>Ekesekutif Managerial</td>\n",
       "      <td>Perempuan</td>\n",
       "      <td>0.0</td>\n",
       "      <td>0.0</td>\n",
       "      <td>40.0</td>\n",
       "      <td>&lt;=7jt</td>\n",
       "    </tr>\n",
       "    <tr>\n",
       "      <th>2</th>\n",
       "      <td>44</td>\n",
       "      <td>Wiraswasta</td>\n",
       "      <td>120057</td>\n",
       "      <td>D3</td>\n",
       "      <td>12</td>\n",
       "      <td>Menikah</td>\n",
       "      <td>Ekesekutif Managerial</td>\n",
       "      <td>Laki2</td>\n",
       "      <td>61404000.0</td>\n",
       "      <td>0.0</td>\n",
       "      <td>45.0</td>\n",
       "      <td>&gt;7jt</td>\n",
       "    </tr>\n",
       "    <tr>\n",
       "      <th>3</th>\n",
       "      <td>24</td>\n",
       "      <td>Wiraswasta</td>\n",
       "      <td>194630</td>\n",
       "      <td>Sarjana</td>\n",
       "      <td>13</td>\n",
       "      <td>Belum Pernah Menikah</td>\n",
       "      <td>Spesialis</td>\n",
       "      <td>Laki2</td>\n",
       "      <td>0.0</td>\n",
       "      <td>0.0</td>\n",
       "      <td>35.0</td>\n",
       "      <td>&lt;=7jt</td>\n",
       "    </tr>\n",
       "    <tr>\n",
       "      <th>4</th>\n",
       "      <td>33</td>\n",
       "      <td>Wiraswasta</td>\n",
       "      <td>219619</td>\n",
       "      <td>Master</td>\n",
       "      <td>14</td>\n",
       "      <td>Menikah</td>\n",
       "      <td>Spesialis</td>\n",
       "      <td>Laki2</td>\n",
       "      <td>210336000.0</td>\n",
       "      <td>0.0</td>\n",
       "      <td>40.0</td>\n",
       "      <td>&gt;7jt</td>\n",
       "    </tr>\n",
       "  </tbody>\n",
       "</table>\n",
       "</div>"
      ],
      "text/plain": [
       "    Umur Kelas Pekerja  Berat Akhir Pendidikan  Jmlh Tahun Pendidikan  \\\n",
       "id                                                                      \n",
       "0     21    Wiraswasta       242912        SMA                      9   \n",
       "1     49    Wiraswasta       140782       10th                      6   \n",
       "2     44    Wiraswasta       120057         D3                     12   \n",
       "3     24    Wiraswasta       194630    Sarjana                     13   \n",
       "4     33    Wiraswasta       219619     Master                     14   \n",
       "\n",
       "       Status Perkawinan              Pekerjaan Jenis Kelamin  \\\n",
       "id                                                              \n",
       "0   Belum Pernah Menikah         Servis Lainnya     Perempuan   \n",
       "1                  Cerai  Ekesekutif Managerial     Perempuan   \n",
       "2                Menikah  Ekesekutif Managerial         Laki2   \n",
       "3   Belum Pernah Menikah              Spesialis         Laki2   \n",
       "4                Menikah              Spesialis         Laki2   \n",
       "\n",
       "    Keuntungan Kapital  Kerugian Capital  Jam per Minggu   Gaji  \n",
       "id                                                               \n",
       "0                  0.0               0.0            35.0  <=7jt  \n",
       "1                  0.0               0.0            40.0  <=7jt  \n",
       "2           61404000.0               0.0            45.0   >7jt  \n",
       "3                  0.0               0.0            35.0  <=7jt  \n",
       "4          210336000.0               0.0            40.0   >7jt  "
      ]
     },
     "execution_count": 3,
     "metadata": {},
     "output_type": "execute_result"
    }
   ],
   "source": [
    "df_train.head()"
   ]
  },
  {
   "cell_type": "code",
   "execution_count": 4,
   "metadata": {
    "scrolled": true
   },
   "outputs": [
    {
     "data": {
      "text/html": [
       "<div>\n",
       "<style scoped>\n",
       "    .dataframe tbody tr th:only-of-type {\n",
       "        vertical-align: middle;\n",
       "    }\n",
       "\n",
       "    .dataframe tbody tr th {\n",
       "        vertical-align: top;\n",
       "    }\n",
       "\n",
       "    .dataframe thead th {\n",
       "        text-align: right;\n",
       "    }\n",
       "</style>\n",
       "<table border=\"1\" class=\"dataframe\">\n",
       "  <thead>\n",
       "    <tr style=\"text-align: right;\">\n",
       "      <th></th>\n",
       "      <th>id</th>\n",
       "      <th>Umur</th>\n",
       "      <th>Kelas Pekerja</th>\n",
       "      <th>Berat Akhir</th>\n",
       "      <th>Pendidikan</th>\n",
       "      <th>Jmlh Tahun Pendidikan</th>\n",
       "      <th>Status Perkawinan</th>\n",
       "      <th>Pekerjaan</th>\n",
       "      <th>Jenis Kelamin</th>\n",
       "      <th>Keuntungan Kapital</th>\n",
       "      <th>Kerugian Capital</th>\n",
       "      <th>Jam per Minggu</th>\n",
       "    </tr>\n",
       "  </thead>\n",
       "  <tbody>\n",
       "    <tr>\n",
       "      <th>0</th>\n",
       "      <td>35994</td>\n",
       "      <td>30</td>\n",
       "      <td>Pemerintah Lokal</td>\n",
       "      <td>99761</td>\n",
       "      <td>D4</td>\n",
       "      <td>11</td>\n",
       "      <td>Cerai</td>\n",
       "      <td>Pemuka Agama</td>\n",
       "      <td>Perempuan</td>\n",
       "      <td>0.0</td>\n",
       "      <td>0.0</td>\n",
       "      <td>40.0</td>\n",
       "    </tr>\n",
       "    <tr>\n",
       "      <th>1</th>\n",
       "      <td>35995</td>\n",
       "      <td>28</td>\n",
       "      <td>Wiraswasta</td>\n",
       "      <td>202206</td>\n",
       "      <td>SMA</td>\n",
       "      <td>9</td>\n",
       "      <td>Menikah</td>\n",
       "      <td>Mesin Inspeksi</td>\n",
       "      <td>Laki2</td>\n",
       "      <td>0.0</td>\n",
       "      <td>0.0</td>\n",
       "      <td>50.0</td>\n",
       "    </tr>\n",
       "    <tr>\n",
       "      <th>2</th>\n",
       "      <td>35996</td>\n",
       "      <td>34</td>\n",
       "      <td>Pemerintah Provinsi</td>\n",
       "      <td>199934</td>\n",
       "      <td>Pendidikan Tinggi</td>\n",
       "      <td>10</td>\n",
       "      <td>Menikah</td>\n",
       "      <td>Pemuka Agama</td>\n",
       "      <td>Laki2</td>\n",
       "      <td>0.0</td>\n",
       "      <td>0.0</td>\n",
       "      <td>40.0</td>\n",
       "    </tr>\n",
       "    <tr>\n",
       "      <th>3</th>\n",
       "      <td>35997</td>\n",
       "      <td>51</td>\n",
       "      <td>Wiraswasta</td>\n",
       "      <td>373448</td>\n",
       "      <td>Pendidikan Tinggi</td>\n",
       "      <td>10</td>\n",
       "      <td>Menikah</td>\n",
       "      <td>Ekesekutif Managerial</td>\n",
       "      <td>Laki2</td>\n",
       "      <td>0.0</td>\n",
       "      <td>28028000.0</td>\n",
       "      <td>40.0</td>\n",
       "    </tr>\n",
       "    <tr>\n",
       "      <th>4</th>\n",
       "      <td>35998</td>\n",
       "      <td>20</td>\n",
       "      <td>?</td>\n",
       "      <td>144685</td>\n",
       "      <td>Pendidikan Tinggi</td>\n",
       "      <td>10</td>\n",
       "      <td>Belum Pernah Menikah</td>\n",
       "      <td>?</td>\n",
       "      <td>Perempuan</td>\n",
       "      <td>0.0</td>\n",
       "      <td>22428000.0</td>\n",
       "      <td>40.0</td>\n",
       "    </tr>\n",
       "  </tbody>\n",
       "</table>\n",
       "</div>"
      ],
      "text/plain": [
       "      id  Umur        Kelas Pekerja  Berat Akhir         Pendidikan  \\\n",
       "0  35994    30     Pemerintah Lokal        99761                 D4   \n",
       "1  35995    28           Wiraswasta       202206                SMA   \n",
       "2  35996    34  Pemerintah Provinsi       199934  Pendidikan Tinggi   \n",
       "3  35997    51           Wiraswasta       373448  Pendidikan Tinggi   \n",
       "4  35998    20                    ?       144685  Pendidikan Tinggi   \n",
       "\n",
       "   Jmlh Tahun Pendidikan     Status Perkawinan              Pekerjaan  \\\n",
       "0                     11                 Cerai           Pemuka Agama   \n",
       "1                      9               Menikah         Mesin Inspeksi   \n",
       "2                     10               Menikah           Pemuka Agama   \n",
       "3                     10               Menikah  Ekesekutif Managerial   \n",
       "4                     10  Belum Pernah Menikah                      ?   \n",
       "\n",
       "  Jenis Kelamin  Keuntungan Kapital  Kerugian Capital  Jam per Minggu  \n",
       "0     Perempuan                 0.0               0.0            40.0  \n",
       "1         Laki2                 0.0               0.0            50.0  \n",
       "2         Laki2                 0.0               0.0            40.0  \n",
       "3         Laki2                 0.0        28028000.0            40.0  \n",
       "4     Perempuan                 0.0        22428000.0            40.0  "
      ]
     },
     "execution_count": 4,
     "metadata": {},
     "output_type": "execute_result"
    }
   ],
   "source": [
    "df_test.head()"
   ]
  },
  {
   "cell_type": "code",
   "execution_count": 61,
   "metadata": {},
   "outputs": [],
   "source": [
    "df_kp = df_train.groupby(['Kelas Pekerja', 'Pendidikan'])"
   ]
  },
  {
   "cell_type": "code",
   "execution_count": 64,
   "metadata": {},
   "outputs": [
    {
     "data": {
      "text/plain": [
       "Kelas Pekerja  Pendidikan\n",
       "1              0               10\n",
       "               1               25\n",
       "               2               87\n",
       "               3               50\n",
       "               4               75\n",
       "                             ... \n",
       "8              11            1038\n",
       "               12             202\n",
       "               13              53\n",
       "               14            9230\n",
       "               15             273\n",
       "Length: 103, dtype: int64"
      ]
     },
     "execution_count": 64,
     "metadata": {},
     "output_type": "execute_result"
    }
   ],
   "source": [
    "df_kp.size()"
   ]
  },
  {
   "cell_type": "code",
   "execution_count": 5,
   "metadata": {
    "scrolled": true
   },
   "outputs": [
    {
     "name": "stdout",
     "output_type": "stream",
     "text": [
      "Umur\n",
      "17    432\n",
      "18    621\n",
      "19    767\n",
      "20    836\n",
      "21    848\n",
      "     ... \n",
      "85      2\n",
      "86      1\n",
      "87      3\n",
      "88      5\n",
      "90     34\n",
      "Length: 73, dtype: int64\n",
      "\n",
      "Kelas Pekerja\n",
      "?                                 2063\n",
      "Pekerja Bebas Bukan Perusahan     2866\n",
      "Pekerja Bebas Perusahaan          1273\n",
      "Pemerintah Lokal                  2280\n",
      "Pemerintah Negara                 1477\n",
      "Pemerintah Provinsi               1066\n",
      "Tanpa di Bayar                      15\n",
      "Tidak Pernah Bekerja                 6\n",
      "Wiraswasta                       24948\n",
      "dtype: int64\n",
      "\n",
      "Berat Akhir\n",
      "12285      1\n",
      "13492      1\n",
      "13769      2\n",
      "13862      1\n",
      "14878      1\n",
      "          ..\n",
      "1210504    1\n",
      "1268339    1\n",
      "1366120    1\n",
      "1484705    1\n",
      "1490400    1\n",
      "Length: 23365, dtype: int64\n",
      "\n",
      "Pendidikan\n",
      "10th                     1024\n",
      "11th                     1315\n",
      "12th                      478\n",
      "1st-4th                   184\n",
      "5th-6th                   388\n",
      "7th-8th                   682\n",
      "9th                       570\n",
      "D3                       1175\n",
      "D4                       1500\n",
      "Doktor                    451\n",
      "Master                   1944\n",
      "Pendidikan Tinggi        8005\n",
      "SD                         62\n",
      "SMA                     11666\n",
      "Sarjana                  5928\n",
      "Sekolah Professional      622\n",
      "dtype: int64\n",
      "\n",
      "Jmlh Tahun Pendidikan\n",
      "1        62\n",
      "2       184\n",
      "3       388\n",
      "4       682\n",
      "5       570\n",
      "6      1024\n",
      "7      1315\n",
      "8       478\n",
      "9     11666\n",
      "10     8005\n",
      "11     1500\n",
      "12     1175\n",
      "13     5928\n",
      "14     1944\n",
      "15      622\n",
      "16      451\n",
      "dtype: int64\n",
      "\n",
      "Status Perkawinan\n",
      "Belum Pernah Menikah    11851\n",
      "Berpisah                 1133\n",
      "Cerai                    4857\n",
      "Janda                    1103\n",
      "Menikah                 16559\n",
      "Menikah LDR               491\n",
      "dtype: int64\n",
      "\n",
      "Pekerjaan\n",
      "?                        2069\n",
      "Asisten Rumah Tangga      187\n",
      "Ekesekutif Managerial    4481\n",
      "Mesin Inspeksi           2250\n",
      "Pembersih                1540\n",
      "Pemuka Agama             4158\n",
      "Penjaga                   686\n",
      "Perbaikan Kerajinan      4507\n",
      "Petani                   1076\n",
      "Sales                    4044\n",
      "Servis Lainnya           3615\n",
      "Spesialis                4587\n",
      "Supir                    1741\n",
      "Tech-support             1042\n",
      "Tentara                    11\n",
      "dtype: int64\n",
      "\n",
      "Jenis Kelamin\n",
      "Laki2        24094\n",
      "Perempuan    11900\n",
      "dtype: int64\n",
      "\n",
      "Keuntungan Kapital\n",
      "0.000000e+00    32982\n",
      "1.596000e+06        7\n",
      "5.614000e+06        4\n",
      "8.316000e+06       36\n",
      "1.279600e+07        6\n",
      "                ...  \n",
      "3.533040e+08       14\n",
      "3.895920e+08       46\n",
      "4.773300e+08        4\n",
      "5.783400e+08        3\n",
      "1.399986e+09      174\n",
      "Length: 120, dtype: int64\n",
      "\n",
      "Kerugian Capital\n",
      "0.0           34330\n",
      "2170000.0         1\n",
      "2982000.0         1\n",
      "4522000.0         3\n",
      "5866000.0         2\n",
      "              ...  \n",
      "44450000.0        1\n",
      "51562000.0        1\n",
      "52780000.0        4\n",
      "54600000.0        1\n",
      "60984000.0        2\n",
      "Length: 96, dtype: int64\n",
      "\n",
      "Jam per Minggu\n",
      "1.0      18\n",
      "2.0      38\n",
      "3.0      43\n",
      "4.0      66\n",
      "5.0      67\n",
      "       ... \n",
      "95.0      1\n",
      "96.0      9\n",
      "97.0      2\n",
      "98.0     12\n",
      "99.0    101\n",
      "Length: 94, dtype: int64\n",
      "\n",
      "Gaji\n",
      "<=7jt    27364\n",
      ">7jt      8630\n",
      "dtype: int64\n"
     ]
    }
   ],
   "source": [
    "print(df_train.groupby('Umur').size())\n",
    "print()\n",
    "print(df_train.groupby('Kelas Pekerja').size())\n",
    "print()\n",
    "print(df_train.groupby('Berat Akhir').size())\n",
    "print()\n",
    "print(df_train.groupby('Pendidikan').size())\n",
    "print()\n",
    "print(df_train.groupby('Jmlh Tahun Pendidikan').size())\n",
    "print()\n",
    "print(df_train.groupby('Status Perkawinan').size())\n",
    "print()\n",
    "print(df_train.groupby('Pekerjaan').size())\n",
    "print()\n",
    "print(df_train.groupby('Jenis Kelamin').size())\n",
    "print()\n",
    "print(df_train.groupby('Keuntungan Kapital').size())\n",
    "print()\n",
    "print(df_train.groupby('Kerugian Capital').size())\n",
    "print()\n",
    "print(df_train.groupby('Jam per Minggu').size())\n",
    "print()\n",
    "print(df_train.groupby('Gaji').size())"
   ]
  },
  {
   "cell_type": "code",
   "execution_count": 6,
   "metadata": {},
   "outputs": [],
   "source": [
    "# pembagian umur menjadi 3 bagian interval\n",
    "g,h = pd.cut(df_train['Umur'],3, labels=[1,2,3],retbins=True)\n",
    "df_train['Umur']=pd.cut(df_train['Umur'],bins=h, labels=[1,2,3])\n",
    "df_test['Umur']=pd.cut(df_test['Umur'],bins=h, labels=[1,2,3])"
   ]
  },
  {
   "cell_type": "code",
   "execution_count": 7,
   "metadata": {},
   "outputs": [],
   "source": [
    "# fungsi untuk mengubah data kelas pekerja\n",
    "# mengganti ? menjadi wiraswasta\n",
    "def kelas_pekerja(data):\n",
    "    data = data.replace('?', 8)\n",
    "    data = data.replace('Pekerja Bebas Bukan Perusahan', 1)\n",
    "    data = data.replace('Pekerja Bebas Perusahaan', 2)\n",
    "    data = data.replace('Pemerintah Lokal', 3)\n",
    "    data = data.replace('Pemerintah Negara', 4)\n",
    "    data = data.replace('Pemerintah Provinsi', 5)\n",
    "    data = data.replace('Tanpa di Bayar', 6)\n",
    "    data = data.replace('Tidak Pernah Bekerja', 7)\n",
    "    data = data.replace('Wiraswasta', 8)\n",
    "    return data"
   ]
  },
  {
   "cell_type": "code",
   "execution_count": 8,
   "metadata": {},
   "outputs": [
    {
     "data": {
      "text/plain": [
       "Kelas Pekerja\n",
       "1     2866\n",
       "2     1273\n",
       "3     2280\n",
       "4     1477\n",
       "5     1066\n",
       "6       15\n",
       "7        6\n",
       "8    27011\n",
       "dtype: int64"
      ]
     },
     "execution_count": 8,
     "metadata": {},
     "output_type": "execute_result"
    }
   ],
   "source": [
    "df_train['Kelas Pekerja'] = kelas_pekerja(df_train['Kelas Pekerja'])\n",
    "df_train.groupby('Kelas Pekerja').size()"
   ]
  },
  {
   "cell_type": "code",
   "execution_count": 9,
   "metadata": {},
   "outputs": [
    {
     "data": {
      "text/plain": [
       "Kelas Pekerja\n",
       "1     732\n",
       "2     316\n",
       "3     624\n",
       "4     376\n",
       "5     279\n",
       "6       4\n",
       "7       2\n",
       "8    7266\n",
       "dtype: int64"
      ]
     },
     "execution_count": 9,
     "metadata": {},
     "output_type": "execute_result"
    }
   ],
   "source": [
    "df_test['Kelas Pekerja'] = kelas_pekerja(df_test['Kelas Pekerja'])\n",
    "df_test.groupby('Kelas Pekerja').size()"
   ]
  },
  {
   "cell_type": "code",
   "execution_count": 10,
   "metadata": {},
   "outputs": [],
   "source": [
    "#Pembagian Berat Akhir menjadi 10 Kategori Interval 1-10\n",
    "berat_label= [1,2,3,4,5,6,7,8,9,10]\n",
    "df_test['Berat Akhir']=pd.qcut(df_test['Berat Akhir'],10, labels=berat_label)\n",
    "df_train['Berat Akhir']=pd.qcut(df_train['Berat Akhir'],10, labels=berat_label)"
   ]
  },
  {
   "cell_type": "code",
   "execution_count": 11,
   "metadata": {},
   "outputs": [],
   "source": [
    "def pendidikan(data):\n",
    "    data = data.replace('1st-4th', 0)\n",
    "    data = data.replace('5th-6th', 1)\n",
    "    data = data.replace('7th-8th', 2)\n",
    "    data = data.replace('9th', 3)\n",
    "    data = data.replace('10th', 4)\n",
    "    data = data.replace('11th', 5)\n",
    "    data = data.replace('12th', 6)\n",
    "    data = data.replace('D3', 7)\n",
    "    data = data.replace('D4', 8)\n",
    "    data = data.replace('Pendidikan Tinggi', 9)\n",
    "    data = data.replace('Sarjana', 10)\n",
    "    data = data.replace('Master', 11)\n",
    "    data = data.replace('Doktor', 12)\n",
    "    data = data.replace('SD', 13)\n",
    "    data = data.replace('SMA', 14)\n",
    "    data = data.replace('Sekolah Professional', 15)\n",
    "    return data"
   ]
  },
  {
   "cell_type": "code",
   "execution_count": 12,
   "metadata": {},
   "outputs": [
    {
     "data": {
      "text/plain": [
       "Pendidikan\n",
       "0       184\n",
       "1       388\n",
       "2       682\n",
       "3       570\n",
       "4      1024\n",
       "5      1315\n",
       "6       478\n",
       "7      1175\n",
       "8      1500\n",
       "9      8005\n",
       "10     5928\n",
       "11     1944\n",
       "12      451\n",
       "13       62\n",
       "14    11666\n",
       "15      622\n",
       "dtype: int64"
      ]
     },
     "execution_count": 12,
     "metadata": {},
     "output_type": "execute_result"
    }
   ],
   "source": [
    "df_train['Pendidikan'] = pendidikan(df_train['Pendidikan'])\n",
    "df_train.groupby('Pendidikan').size()"
   ]
  },
  {
   "cell_type": "code",
   "execution_count": 13,
   "metadata": {},
   "outputs": [
    {
     "data": {
      "text/plain": [
       "Pendidikan\n",
       "0       47\n",
       "1       86\n",
       "2      214\n",
       "3      138\n",
       "4      271\n",
       "5      379\n",
       "6      125\n",
       "7      312\n",
       "8      417\n",
       "9     2176\n",
       "10    1564\n",
       "11     509\n",
       "12     104\n",
       "13      15\n",
       "14    3090\n",
       "15     152\n",
       "dtype: int64"
      ]
     },
     "execution_count": 13,
     "metadata": {},
     "output_type": "execute_result"
    }
   ],
   "source": [
    "df_test['Pendidikan'] = pendidikan(df_test['Pendidikan'])\n",
    "df_test.groupby('Pendidikan').size()"
   ]
  },
  {
   "cell_type": "code",
   "execution_count": 14,
   "metadata": {},
   "outputs": [],
   "source": [
    "def status_perkawinan(data):\n",
    "    data = data.replace('Belum Pernah Menikah', 0)\n",
    "    data = data.replace('Berpisah', 1)\n",
    "    data = data.replace('Cerai', 2)\n",
    "    data = data.replace('Janda', 3)\n",
    "    data = data.replace('Menikah', 4)\n",
    "    data = data.replace('Menikah LDR', 5)\n",
    "    return data"
   ]
  },
  {
   "cell_type": "code",
   "execution_count": 15,
   "metadata": {},
   "outputs": [
    {
     "data": {
      "text/plain": [
       "Status Perkawinan\n",
       "0    11851\n",
       "1     1133\n",
       "2     4857\n",
       "3     1103\n",
       "4    16559\n",
       "5      491\n",
       "dtype: int64"
      ]
     },
     "execution_count": 15,
     "metadata": {},
     "output_type": "execute_result"
    }
   ],
   "source": [
    "df_train['Status Perkawinan'] = status_perkawinan(df_train['Status Perkawinan'])\n",
    "df_train.groupby('Status Perkawinan').size()"
   ]
  },
  {
   "cell_type": "code",
   "execution_count": 16,
   "metadata": {},
   "outputs": [
    {
     "data": {
      "text/plain": [
       "Status Perkawinan\n",
       "0    3213\n",
       "1     301\n",
       "2    1304\n",
       "3     313\n",
       "4    4333\n",
       "5     135\n",
       "dtype: int64"
      ]
     },
     "execution_count": 16,
     "metadata": {},
     "output_type": "execute_result"
    }
   ],
   "source": [
    "df_test['Status Perkawinan'] = status_perkawinan(df_test['Status Perkawinan'])\n",
    "df_test.groupby('Status Perkawinan').size()"
   ]
  },
  {
   "cell_type": "code",
   "execution_count": 17,
   "metadata": {},
   "outputs": [],
   "source": [
    "def pekerjaan(data):\n",
    "    data = data.replace('?', 0)\n",
    "    data = data.replace('Asisten Rumah Tangga', 1)\n",
    "    data = data.replace('Ekesekutif Managerial', 2)\n",
    "    data = data.replace('Mesin Inspeksi', 3)\n",
    "    data = data.replace('Pembersih', 4)\n",
    "    data = data.replace('Pemuka Agama', 5)\n",
    "    data = data.replace('Penjaga', 6)\n",
    "    data = data.replace('Perbaikan Kerajinan', 7)\n",
    "    data = data.replace('Petani', 8)\n",
    "    data = data.replace('Sales', 9)\n",
    "    data = data.replace('Servis Lainnya', 10)\n",
    "    data = data.replace('Spesialis', 11)\n",
    "    data = data.replace('Supir', 12)\n",
    "    data = data.replace('Tech-support', 13)\n",
    "    data = data.replace('Tentara', 14)\n",
    "    return data"
   ]
  },
  {
   "cell_type": "code",
   "execution_count": 18,
   "metadata": {},
   "outputs": [
    {
     "data": {
      "text/plain": [
       "Pekerjaan\n",
       "0     2069\n",
       "1      187\n",
       "2     4481\n",
       "3     2250\n",
       "4     1540\n",
       "5     4158\n",
       "6      686\n",
       "7     4507\n",
       "8     1076\n",
       "9     4044\n",
       "10    3615\n",
       "11    4587\n",
       "12    1741\n",
       "13    1042\n",
       "14      11\n",
       "dtype: int64"
      ]
     },
     "execution_count": 18,
     "metadata": {},
     "output_type": "execute_result"
    }
   ],
   "source": [
    "df_train['Pekerjaan'] = pekerjaan(df_train['Pekerjaan'])\n",
    "df_train.groupby('Pekerjaan').size()"
   ]
  },
  {
   "cell_type": "code",
   "execution_count": 19,
   "metadata": {},
   "outputs": [
    {
     "data": {
      "text/plain": [
       "Pekerjaan\n",
       "0      554\n",
       "1       43\n",
       "2     1188\n",
       "3      590\n",
       "4      398\n",
       "5     1112\n",
       "6      228\n",
       "7     1205\n",
       "8      316\n",
       "9     1079\n",
       "10     982\n",
       "11    1142\n",
       "12     458\n",
       "13     301\n",
       "14       3\n",
       "dtype: int64"
      ]
     },
     "execution_count": 19,
     "metadata": {},
     "output_type": "execute_result"
    }
   ],
   "source": [
    "df_test['Pekerjaan'] = pekerjaan(df_test['Pekerjaan'])\n",
    "df_test.groupby('Pekerjaan').size()"
   ]
  },
  {
   "cell_type": "code",
   "execution_count": 20,
   "metadata": {},
   "outputs": [],
   "source": [
    "def jenis_kelamin(data):\n",
    "    data = data.replace('Laki2', 0)\n",
    "    data = data.replace('Perempuan', 1)\n",
    "    return data"
   ]
  },
  {
   "cell_type": "code",
   "execution_count": 21,
   "metadata": {},
   "outputs": [
    {
     "data": {
      "text/plain": [
       "Jenis Kelamin\n",
       "0    24094\n",
       "1    11900\n",
       "dtype: int64"
      ]
     },
     "execution_count": 21,
     "metadata": {},
     "output_type": "execute_result"
    }
   ],
   "source": [
    "df_train['Jenis Kelamin'] = jenis_kelamin(df_train['Jenis Kelamin'])\n",
    "df_train.groupby('Jenis Kelamin').size()"
   ]
  },
  {
   "cell_type": "code",
   "execution_count": 22,
   "metadata": {},
   "outputs": [
    {
     "data": {
      "text/plain": [
       "Jenis Kelamin\n",
       "0    6380\n",
       "1    3219\n",
       "dtype: int64"
      ]
     },
     "execution_count": 22,
     "metadata": {},
     "output_type": "execute_result"
    }
   ],
   "source": [
    "df_test['Jenis Kelamin'] = jenis_kelamin(df_test['Jenis Kelamin'])\n",
    "df_test.groupby('Jenis Kelamin').size()"
   ]
  },
  {
   "cell_type": "code",
   "execution_count": 23,
   "metadata": {},
   "outputs": [],
   "source": [
    "#Memberikan Label pada keuntungan kapital\n",
    "a, b  =pd.cut(df_train['Keuntungan Kapital'],10 ,labels=[1,2,3,4,5,6,7,8,9,10], retbins=True)\n",
    "df_train['Keuntungan Kapital']= pd.cut(df_train['Keuntungan Kapital'], bins=b,labels=[1,2,3,4,5,6,7,8,9,10])\n",
    "df_test['Keuntungan Kapital']= pd.cut(df_test['Keuntungan Kapital'], bins=b,labels=[1,2,3,4,5,6,7,8,9,10])\n",
    "\n",
    "#Memberikan pembagian label pada kerugian capital\n",
    "c, d = pd.cut(df_train['Kerugian Capital'],5 ,labels=[1,2,3,4,5], retbins=True)\n",
    "df_train['Kerugian Capital']= pd.cut(df_train['Kerugian Capital'], bins=d,labels=[1,2,3,4,5])\n",
    "df_test['Kerugian Capital']= pd.cut(df_test['Kerugian Capital'], bins=d,labels=[1,2,3,4,5])"
   ]
  },
  {
   "cell_type": "code",
   "execution_count": 24,
   "metadata": {},
   "outputs": [
    {
     "data": {
      "text/plain": [
       "{'whiskers': [<matplotlib.lines.Line2D at 0x2218b490808>,\n",
       "  <matplotlib.lines.Line2D at 0x2218b4aafc8>],\n",
       " 'caps': [<matplotlib.lines.Line2D at 0x2218b4b6b48>,\n",
       "  <matplotlib.lines.Line2D at 0x2218b4b6fc8>],\n",
       " 'boxes': [<matplotlib.lines.Line2D at 0x2218b496c48>],\n",
       " 'medians': [<matplotlib.lines.Line2D at 0x2218b4b6d08>],\n",
       " 'fliers': [<matplotlib.lines.Line2D at 0x2218b4bddc8>],\n",
       " 'means': []}"
      ]
     },
     "execution_count": 24,
     "metadata": {},
     "output_type": "execute_result"
    },
    {
     "data": {
      "image/png": "[encoded data removed]",
      "text/plain": [
       "<Figure size 432x288 with 1 Axes>"
      ]
     },
     "metadata": {
      "needs_background": "light"
     },
     "output_type": "display_data"
    }
   ],
   "source": [
    "plt.boxplot(df_train['Jam per Minggu'])"
   ]
  },
  {
   "cell_type": "code",
   "execution_count": 25,
   "metadata": {},
   "outputs": [],
   "source": [
    "#Memberikan label pada jam kerja\n",
    "e,f = pd.cut(df_train['Jam per Minggu'],3, labels=[1,2,3],retbins=True)\n",
    "df_train['Jam per Minggu']=pd.cut(df_train['Jam per Minggu'],bins=f, labels=[1,2,3])\n",
    "df_test['Jam per Minggu']=pd.cut(df_test['Jam per Minggu'],bins=f, labels=[1,2,3])"
   ]
  },
  {
   "cell_type": "code",
   "execution_count": 26,
   "metadata": {},
   "outputs": [],
   "source": [
    "gaji_n = []\n",
    "gaji = df_train['Gaji']\n",
    "for i in gaji:\n",
    "    if i == '<=7jt':\n",
    "        gaji_n.append(0)\n",
    "    elif i == '>7jt':\n",
    "        gaji_n.append(1)\n",
    "    \n",
    "df_gaji = pd.DataFrame(gaji_n)"
   ]
  },
  {
   "cell_type": "code",
   "execution_count": 27,
   "metadata": {},
   "outputs": [],
   "source": [
    "df_train['f Gaji'] = gaji_n"
   ]
  },
  {
   "cell_type": "code",
   "execution_count": 28,
   "metadata": {},
   "outputs": [
    {
     "data": {
      "text/html": [
       "<div>\n",
       "<style scoped>\n",
       "    .dataframe tbody tr th:only-of-type {\n",
       "        vertical-align: middle;\n",
       "    }\n",
       "\n",
       "    .dataframe tbody tr th {\n",
       "        vertical-align: top;\n",
       "    }\n",
       "\n",
       "    .dataframe thead th {\n",
       "        text-align: right;\n",
       "    }\n",
       "</style>\n",
       "<table border=\"1\" class=\"dataframe\">\n",
       "  <thead>\n",
       "    <tr style=\"text-align: right;\">\n",
       "      <th></th>\n",
       "      <th>Umur</th>\n",
       "      <th>Kelas Pekerja</th>\n",
       "      <th>Berat Akhir</th>\n",
       "      <th>Pendidikan</th>\n",
       "      <th>Jmlh Tahun Pendidikan</th>\n",
       "      <th>Status Perkawinan</th>\n",
       "      <th>Pekerjaan</th>\n",
       "      <th>Jenis Kelamin</th>\n",
       "      <th>Keuntungan Kapital</th>\n",
       "      <th>Kerugian Capital</th>\n",
       "      <th>Jam per Minggu</th>\n",
       "      <th>Gaji</th>\n",
       "      <th>f Gaji</th>\n",
       "    </tr>\n",
       "    <tr>\n",
       "      <th>id</th>\n",
       "      <th></th>\n",
       "      <th></th>\n",
       "      <th></th>\n",
       "      <th></th>\n",
       "      <th></th>\n",
       "      <th></th>\n",
       "      <th></th>\n",
       "      <th></th>\n",
       "      <th></th>\n",
       "      <th></th>\n",
       "      <th></th>\n",
       "      <th></th>\n",
       "      <th></th>\n",
       "    </tr>\n",
       "  </thead>\n",
       "  <tbody>\n",
       "    <tr>\n",
       "      <th>0</th>\n",
       "      <td>1</td>\n",
       "      <td>8</td>\n",
       "      <td>8</td>\n",
       "      <td>14</td>\n",
       "      <td>9</td>\n",
       "      <td>0</td>\n",
       "      <td>10</td>\n",
       "      <td>1</td>\n",
       "      <td>1</td>\n",
       "      <td>1</td>\n",
       "      <td>2</td>\n",
       "      <td>&lt;=7jt</td>\n",
       "      <td>0</td>\n",
       "    </tr>\n",
       "    <tr>\n",
       "      <th>1</th>\n",
       "      <td>2</td>\n",
       "      <td>8</td>\n",
       "      <td>4</td>\n",
       "      <td>4</td>\n",
       "      <td>6</td>\n",
       "      <td>2</td>\n",
       "      <td>2</td>\n",
       "      <td>1</td>\n",
       "      <td>1</td>\n",
       "      <td>1</td>\n",
       "      <td>2</td>\n",
       "      <td>&lt;=7jt</td>\n",
       "      <td>0</td>\n",
       "    </tr>\n",
       "    <tr>\n",
       "      <th>2</th>\n",
       "      <td>2</td>\n",
       "      <td>8</td>\n",
       "      <td>3</td>\n",
       "      <td>7</td>\n",
       "      <td>12</td>\n",
       "      <td>4</td>\n",
       "      <td>2</td>\n",
       "      <td>0</td>\n",
       "      <td>1</td>\n",
       "      <td>1</td>\n",
       "      <td>2</td>\n",
       "      <td>&gt;7jt</td>\n",
       "      <td>1</td>\n",
       "    </tr>\n",
       "    <tr>\n",
       "      <th>3</th>\n",
       "      <td>1</td>\n",
       "      <td>8</td>\n",
       "      <td>6</td>\n",
       "      <td>10</td>\n",
       "      <td>13</td>\n",
       "      <td>0</td>\n",
       "      <td>11</td>\n",
       "      <td>0</td>\n",
       "      <td>1</td>\n",
       "      <td>1</td>\n",
       "      <td>2</td>\n",
       "      <td>&lt;=7jt</td>\n",
       "      <td>0</td>\n",
       "    </tr>\n",
       "    <tr>\n",
       "      <th>4</th>\n",
       "      <td>1</td>\n",
       "      <td>8</td>\n",
       "      <td>7</td>\n",
       "      <td>11</td>\n",
       "      <td>14</td>\n",
       "      <td>4</td>\n",
       "      <td>11</td>\n",
       "      <td>0</td>\n",
       "      <td>2</td>\n",
       "      <td>1</td>\n",
       "      <td>2</td>\n",
       "      <td>&gt;7jt</td>\n",
       "      <td>1</td>\n",
       "    </tr>\n",
       "  </tbody>\n",
       "</table>\n",
       "</div>"
      ],
      "text/plain": [
       "   Umur  Kelas Pekerja Berat Akhir  Pendidikan  Jmlh Tahun Pendidikan  \\\n",
       "id                                                                      \n",
       "0     1              8           8          14                      9   \n",
       "1     2              8           4           4                      6   \n",
       "2     2              8           3           7                     12   \n",
       "3     1              8           6          10                     13   \n",
       "4     1              8           7          11                     14   \n",
       "\n",
       "    Status Perkawinan  Pekerjaan  Jenis Kelamin Keuntungan Kapital  \\\n",
       "id                                                                   \n",
       "0                   0         10              1                  1   \n",
       "1                   2          2              1                  1   \n",
       "2                   4          2              0                  1   \n",
       "3                   0         11              0                  1   \n",
       "4                   4         11              0                  2   \n",
       "\n",
       "   Kerugian Capital Jam per Minggu   Gaji  f Gaji  \n",
       "id                                                 \n",
       "0                 1              2  <=7jt       0  \n",
       "1                 1              2  <=7jt       0  \n",
       "2                 1              2   >7jt       1  \n",
       "3                 1              2  <=7jt       0  \n",
       "4                 1              2   >7jt       1  "
      ]
     },
     "execution_count": 28,
     "metadata": {},
     "output_type": "execute_result"
    }
   ],
   "source": [
    "df_train.head()"
   ]
  },
  {
   "cell_type": "markdown",
   "metadata": {},
   "source": [
    "---------"
   ]
  },
  {
   "cell_type": "code",
   "execution_count": 29,
   "metadata": {},
   "outputs": [],
   "source": [
    "array_train = df_train.drop(['Gaji'], axis=1).values\n",
    "\n",
    "X = array_train[:, :-1]\n",
    "y = array_train[:, -1]"
   ]
  },
  {
   "cell_type": "code",
   "execution_count": 30,
   "metadata": {},
   "outputs": [],
   "source": [
    "y = y.astype('int')"
   ]
  },
  {
   "cell_type": "code",
   "execution_count": 31,
   "metadata": {},
   "outputs": [],
   "source": [
    "X_train, X_validation, Y_train, Y_validation = train_test_split(X, y, test_size=0.2, random_state=21)"
   ]
  },
  {
   "cell_type": "code",
   "execution_count": 32,
   "metadata": {},
   "outputs": [
    {
     "name": "stdout",
     "output_type": "stream",
     "text": [
      "LR: 0.831186 (0.004041)\n",
      "LDA: 0.824935 (0.003374)\n",
      "KNN: 0.812988 (0.005578)\n",
      "CART: 0.807293 (0.005256)\n",
      "NB: 0.792047 (0.003856)\n",
      "SVM: 0.833791 (0.004158)\n",
      "RFC: 0.827400 (0.005628)\n"
     ]
    }
   ],
   "source": [
    "models = []\n",
    "models.append(('LR', LogisticRegression(solver='liblinear', multi_class='ovr')))\n",
    "models.append(('LDA', LinearDiscriminantAnalysis()))\n",
    "models.append(('KNN', KNeighborsClassifier()))\n",
    "models.append(('CART', DecisionTreeClassifier()))\n",
    "models.append(('NB', GaussianNB()))\n",
    "models.append(('SVM', SVC(gamma='auto')))\n",
    "models.append(('RFC', RandomForestClassifier(n_estimators=200)))\n",
    "# evaluate each model in turn\n",
    "results = []\n",
    "names = []\n",
    "for name, model in models:\n",
    "    kfold = StratifiedKFold(n_splits=10, random_state=1, shuffle=True)\n",
    "    cv_results = cross_val_score(model, X_train, Y_train, cv=kfold, scoring='accuracy')\n",
    "    results.append(cv_results)\n",
    "    names.append(name)\n",
    "    print('%s: %f (%f)' % (name, cv_results.mean(), cv_results.std()))\n"
   ]
  },
  {
   "cell_type": "markdown",
   "metadata": {},
   "source": [
    "-------\n",
    "menggunakan logistic regression"
   ]
  },
  {
   "cell_type": "code",
   "execution_count": 42,
   "metadata": {},
   "outputs": [
    {
     "data": {
      "text/plain": [
       "LogisticRegression(C=1.0, class_weight=None, dual=False, fit_intercept=True,\n",
       "                   intercept_scaling=1, l1_ratio=None, max_iter=100,\n",
       "                   multi_class='ovr', n_jobs=None, penalty='l2',\n",
       "                   random_state=None, solver='liblinear', tol=0.0001, verbose=0,\n",
       "                   warm_start=False)"
      ]
     },
     "execution_count": 42,
     "metadata": {},
     "output_type": "execute_result"
    }
   ],
   "source": [
    "model = LogisticRegression(solver='liblinear', multi_class='ovr')\n",
    "model.fit(X_train, Y_train)"
   ]
  },
  {
   "cell_type": "code",
   "execution_count": 43,
   "metadata": {},
   "outputs": [
    {
     "data": {
      "text/plain": [
       "array([0, 0, 0, ..., 1, 0, 0])"
      ]
     },
     "execution_count": 43,
     "metadata": {},
     "output_type": "execute_result"
    }
   ],
   "source": [
    "predictions = model.predict(X_validation)\n",
    "predictions"
   ]
  },
  {
   "cell_type": "code",
   "execution_count": 44,
   "metadata": {},
   "outputs": [
    {
     "name": "stdout",
     "output_type": "stream",
     "text": [
      "0.8312265592443395\n",
      "[[5082  376]\n",
      " [ 839  902]]\n",
      "              precision    recall  f1-score   support\n",
      "\n",
      "           0       0.86      0.93      0.89      5458\n",
      "           1       0.71      0.52      0.60      1741\n",
      "\n",
      "    accuracy                           0.83      7199\n",
      "   macro avg       0.78      0.72      0.75      7199\n",
      "weighted avg       0.82      0.83      0.82      7199\n",
      "\n"
     ]
    }
   ],
   "source": [
    "# Evaluate predictions\n",
    "print(accuracy_score(Y_validation, predictions))\n",
    "print(confusion_matrix(Y_validation, predictions))\n",
    "print(classification_report(Y_validation, predictions))"
   ]
  },
  {
   "cell_type": "code",
   "execution_count": 45,
   "metadata": {},
   "outputs": [
    {
     "data": {
      "text/plain": [
       "array([[1, 3, 2, ..., 1, 1, 2],\n",
       "       [1, 8, 7, ..., 1, 1, 2],\n",
       "       [1, 5, 7, ..., 1, 1, 2],\n",
       "       ...,\n",
       "       [1, 8, 8, ..., 1, 1, 1],\n",
       "       [1, 3, 8, ..., 1, 1, 2],\n",
       "       [1, 1, 1, ..., 1, 1, 3]], dtype=object)"
      ]
     },
     "execution_count": 45,
     "metadata": {},
     "output_type": "execute_result"
    }
   ],
   "source": [
    "array_test = df_test.drop(['id'], axis=1).values\n",
    "X_test = array_test[:, :]\n",
    "X_test"
   ]
  },
  {
   "cell_type": "code",
   "execution_count": 46,
   "metadata": {},
   "outputs": [
    {
     "data": {
      "text/plain": [
       "0\n",
       "0    7971\n",
       "1    1628\n",
       "dtype: int64"
      ]
     },
     "execution_count": 46,
     "metadata": {},
     "output_type": "execute_result"
    }
   ],
   "source": [
    "predictions_test = model.predict(X_test)\n",
    "df_pred = pd.DataFrame(predictions_test)\n",
    "df_pred.groupby(0).size()"
   ]
  },
  {
   "cell_type": "code",
   "execution_count": 47,
   "metadata": {},
   "outputs": [
    {
     "data": {
      "text/html": [
       "<div>\n",
       "<style scoped>\n",
       "    .dataframe tbody tr th:only-of-type {\n",
       "        vertical-align: middle;\n",
       "    }\n",
       "\n",
       "    .dataframe tbody tr th {\n",
       "        vertical-align: top;\n",
       "    }\n",
       "\n",
       "    .dataframe thead th {\n",
       "        text-align: right;\n",
       "    }\n",
       "</style>\n",
       "<table border=\"1\" class=\"dataframe\">\n",
       "  <thead>\n",
       "    <tr style=\"text-align: right;\">\n",
       "      <th></th>\n",
       "      <th>id</th>\n",
       "      <th>Gaji</th>\n",
       "    </tr>\n",
       "  </thead>\n",
       "  <tbody>\n",
       "    <tr>\n",
       "      <th>0</th>\n",
       "      <td>35994</td>\n",
       "      <td>0</td>\n",
       "    </tr>\n",
       "    <tr>\n",
       "      <th>1</th>\n",
       "      <td>35995</td>\n",
       "      <td>0</td>\n",
       "    </tr>\n",
       "    <tr>\n",
       "      <th>2</th>\n",
       "      <td>35996</td>\n",
       "      <td>0</td>\n",
       "    </tr>\n",
       "    <tr>\n",
       "      <th>3</th>\n",
       "      <td>35997</td>\n",
       "      <td>1</td>\n",
       "    </tr>\n",
       "    <tr>\n",
       "      <th>4</th>\n",
       "      <td>35998</td>\n",
       "      <td>0</td>\n",
       "    </tr>\n",
       "    <tr>\n",
       "      <th>...</th>\n",
       "      <td>...</td>\n",
       "      <td>...</td>\n",
       "    </tr>\n",
       "    <tr>\n",
       "      <th>9594</th>\n",
       "      <td>45588</td>\n",
       "      <td>0</td>\n",
       "    </tr>\n",
       "    <tr>\n",
       "      <th>9595</th>\n",
       "      <td>45589</td>\n",
       "      <td>0</td>\n",
       "    </tr>\n",
       "    <tr>\n",
       "      <th>9596</th>\n",
       "      <td>45590</td>\n",
       "      <td>0</td>\n",
       "    </tr>\n",
       "    <tr>\n",
       "      <th>9597</th>\n",
       "      <td>45591</td>\n",
       "      <td>0</td>\n",
       "    </tr>\n",
       "    <tr>\n",
       "      <th>9598</th>\n",
       "      <td>45592</td>\n",
       "      <td>0</td>\n",
       "    </tr>\n",
       "  </tbody>\n",
       "</table>\n",
       "<p>9599 rows × 2 columns</p>\n",
       "</div>"
      ],
      "text/plain": [
       "         id  Gaji\n",
       "0     35994     0\n",
       "1     35995     0\n",
       "2     35996     0\n",
       "3     35997     1\n",
       "4     35998     0\n",
       "...     ...   ...\n",
       "9594  45588     0\n",
       "9595  45589     0\n",
       "9596  45590     0\n",
       "9597  45591     0\n",
       "9598  45592     0\n",
       "\n",
       "[9599 rows x 2 columns]"
      ]
     },
     "execution_count": 47,
     "metadata": {},
     "output_type": "execute_result"
    }
   ],
   "source": [
    "id = df_test['id']\n",
    "gaji = predictions_test\n",
    "d = {'col1': id, 'col2': gaji}\n",
    "df_temp = pd.DataFrame(data=d)\n",
    "df_result = df_temp.rename(columns={'col1':'id', 'col2':'Gaji'})\n",
    "df_result"
   ]
  },
  {
   "cell_type": "code",
   "execution_count": 48,
   "metadata": {},
   "outputs": [],
   "source": [
    "df_result.to_csv('final_project5.csv', index=False)"
   ]
  },
  {
   "cell_type": "markdown",
   "metadata": {},
   "source": [
    "-------\n",
    "menggunakan svc"
   ]
  },
  {
   "cell_type": "code",
   "execution_count": 34,
   "metadata": {},
   "outputs": [
    {
     "data": {
      "text/plain": [
       "SVC(C=1.0, break_ties=False, cache_size=200, class_weight=None, coef0=0.0,\n",
       "    decision_function_shape='ovr', degree=3, gamma='auto', kernel='rbf',\n",
       "    max_iter=-1, probability=False, random_state=None, shrinking=True,\n",
       "    tol=0.001, verbose=False)"
      ]
     },
     "execution_count": 34,
     "metadata": {},
     "output_type": "execute_result"
    }
   ],
   "source": [
    "model = SVC(gamma='auto')\n",
    "model.fit(X_train, Y_train)"
   ]
  },
  {
   "cell_type": "code",
   "execution_count": 35,
   "metadata": {},
   "outputs": [
    {
     "data": {
      "text/plain": [
       "array([0, 0, 0, ..., 1, 0, 0])"
      ]
     },
     "execution_count": 35,
     "metadata": {},
     "output_type": "execute_result"
    }
   ],
   "source": [
    "predictions = model.predict(X_validation)\n",
    "predictions"
   ]
  },
  {
   "cell_type": "code",
   "execution_count": 36,
   "metadata": {},
   "outputs": [
    {
     "name": "stdout",
     "output_type": "stream",
     "text": [
      "0.8358105292401723\n",
      "[[5081  377]\n",
      " [ 805  936]]\n",
      "              precision    recall  f1-score   support\n",
      "\n",
      "           0       0.86      0.93      0.90      5458\n",
      "           1       0.71      0.54      0.61      1741\n",
      "\n",
      "    accuracy                           0.84      7199\n",
      "   macro avg       0.79      0.73      0.75      7199\n",
      "weighted avg       0.83      0.84      0.83      7199\n",
      "\n"
     ]
    }
   ],
   "source": [
    "# Evaluate predictions\n",
    "print(accuracy_score(Y_validation, predictions))\n",
    "print(confusion_matrix(Y_validation, predictions))\n",
    "print(classification_report(Y_validation, predictions))"
   ]
  },
  {
   "cell_type": "code",
   "execution_count": 37,
   "metadata": {},
   "outputs": [
    {
     "data": {
      "text/plain": [
       "array([[1, 3, 2, ..., 1, 1, 2],\n",
       "       [1, 8, 7, ..., 1, 1, 2],\n",
       "       [1, 5, 7, ..., 1, 1, 2],\n",
       "       ...,\n",
       "       [1, 8, 8, ..., 1, 1, 1],\n",
       "       [1, 3, 8, ..., 1, 1, 2],\n",
       "       [1, 1, 1, ..., 1, 1, 3]], dtype=object)"
      ]
     },
     "execution_count": 37,
     "metadata": {},
     "output_type": "execute_result"
    }
   ],
   "source": [
    "array_test = df_test.drop(['id'], axis=1).values\n",
    "X_test = array_test[:, :]\n",
    "X_test"
   ]
  },
  {
   "cell_type": "code",
   "execution_count": 38,
   "metadata": {},
   "outputs": [
    {
     "data": {
      "text/html": [
       "<div>\n",
       "<style scoped>\n",
       "    .dataframe tbody tr th:only-of-type {\n",
       "        vertical-align: middle;\n",
       "    }\n",
       "\n",
       "    .dataframe tbody tr th {\n",
       "        vertical-align: top;\n",
       "    }\n",
       "\n",
       "    .dataframe thead th {\n",
       "        text-align: right;\n",
       "    }\n",
       "</style>\n",
       "<table border=\"1\" class=\"dataframe\">\n",
       "  <thead>\n",
       "    <tr style=\"text-align: right;\">\n",
       "      <th></th>\n",
       "      <th>0</th>\n",
       "    </tr>\n",
       "  </thead>\n",
       "  <tbody>\n",
       "    <tr>\n",
       "      <th>0</th>\n",
       "      <td>0</td>\n",
       "    </tr>\n",
       "    <tr>\n",
       "      <th>1</th>\n",
       "      <td>0</td>\n",
       "    </tr>\n",
       "    <tr>\n",
       "      <th>2</th>\n",
       "      <td>0</td>\n",
       "    </tr>\n",
       "    <tr>\n",
       "      <th>3</th>\n",
       "      <td>1</td>\n",
       "    </tr>\n",
       "    <tr>\n",
       "      <th>4</th>\n",
       "      <td>0</td>\n",
       "    </tr>\n",
       "    <tr>\n",
       "      <th>...</th>\n",
       "      <td>...</td>\n",
       "    </tr>\n",
       "    <tr>\n",
       "      <th>9594</th>\n",
       "      <td>0</td>\n",
       "    </tr>\n",
       "    <tr>\n",
       "      <th>9595</th>\n",
       "      <td>0</td>\n",
       "    </tr>\n",
       "    <tr>\n",
       "      <th>9596</th>\n",
       "      <td>0</td>\n",
       "    </tr>\n",
       "    <tr>\n",
       "      <th>9597</th>\n",
       "      <td>0</td>\n",
       "    </tr>\n",
       "    <tr>\n",
       "      <th>9598</th>\n",
       "      <td>0</td>\n",
       "    </tr>\n",
       "  </tbody>\n",
       "</table>\n",
       "<p>9599 rows × 1 columns</p>\n",
       "</div>"
      ],
      "text/plain": [
       "      0\n",
       "0     0\n",
       "1     0\n",
       "2     0\n",
       "3     1\n",
       "4     0\n",
       "...  ..\n",
       "9594  0\n",
       "9595  0\n",
       "9596  0\n",
       "9597  0\n",
       "9598  0\n",
       "\n",
       "[9599 rows x 1 columns]"
      ]
     },
     "execution_count": 38,
     "metadata": {},
     "output_type": "execute_result"
    }
   ],
   "source": [
    "predictions_test = model.predict(X_test)\n",
    "df_pred = pd.DataFrame(predictions_test)\n",
    "df_pred"
   ]
  },
  {
   "cell_type": "code",
   "execution_count": 39,
   "metadata": {},
   "outputs": [
    {
     "data": {
      "text/plain": [
       "0\n",
       "0    7999\n",
       "1    1600\n",
       "dtype: int64"
      ]
     },
     "execution_count": 39,
     "metadata": {},
     "output_type": "execute_result"
    }
   ],
   "source": [
    "df_pred.groupby(0).size()"
   ]
  },
  {
   "cell_type": "code",
   "execution_count": 40,
   "metadata": {},
   "outputs": [
    {
     "data": {
      "text/html": [
       "<div>\n",
       "<style scoped>\n",
       "    .dataframe tbody tr th:only-of-type {\n",
       "        vertical-align: middle;\n",
       "    }\n",
       "\n",
       "    .dataframe tbody tr th {\n",
       "        vertical-align: top;\n",
       "    }\n",
       "\n",
       "    .dataframe thead th {\n",
       "        text-align: right;\n",
       "    }\n",
       "</style>\n",
       "<table border=\"1\" class=\"dataframe\">\n",
       "  <thead>\n",
       "    <tr style=\"text-align: right;\">\n",
       "      <th></th>\n",
       "      <th>id</th>\n",
       "      <th>Gaji</th>\n",
       "    </tr>\n",
       "  </thead>\n",
       "  <tbody>\n",
       "    <tr>\n",
       "      <th>0</th>\n",
       "      <td>35994</td>\n",
       "      <td>0</td>\n",
       "    </tr>\n",
       "    <tr>\n",
       "      <th>1</th>\n",
       "      <td>35995</td>\n",
       "      <td>0</td>\n",
       "    </tr>\n",
       "    <tr>\n",
       "      <th>2</th>\n",
       "      <td>35996</td>\n",
       "      <td>0</td>\n",
       "    </tr>\n",
       "    <tr>\n",
       "      <th>3</th>\n",
       "      <td>35997</td>\n",
       "      <td>1</td>\n",
       "    </tr>\n",
       "    <tr>\n",
       "      <th>4</th>\n",
       "      <td>35998</td>\n",
       "      <td>0</td>\n",
       "    </tr>\n",
       "    <tr>\n",
       "      <th>...</th>\n",
       "      <td>...</td>\n",
       "      <td>...</td>\n",
       "    </tr>\n",
       "    <tr>\n",
       "      <th>9594</th>\n",
       "      <td>45588</td>\n",
       "      <td>0</td>\n",
       "    </tr>\n",
       "    <tr>\n",
       "      <th>9595</th>\n",
       "      <td>45589</td>\n",
       "      <td>0</td>\n",
       "    </tr>\n",
       "    <tr>\n",
       "      <th>9596</th>\n",
       "      <td>45590</td>\n",
       "      <td>0</td>\n",
       "    </tr>\n",
       "    <tr>\n",
       "      <th>9597</th>\n",
       "      <td>45591</td>\n",
       "      <td>0</td>\n",
       "    </tr>\n",
       "    <tr>\n",
       "      <th>9598</th>\n",
       "      <td>45592</td>\n",
       "      <td>0</td>\n",
       "    </tr>\n",
       "  </tbody>\n",
       "</table>\n",
       "<p>9599 rows × 2 columns</p>\n",
       "</div>"
      ],
      "text/plain": [
       "         id  Gaji\n",
       "0     35994     0\n",
       "1     35995     0\n",
       "2     35996     0\n",
       "3     35997     1\n",
       "4     35998     0\n",
       "...     ...   ...\n",
       "9594  45588     0\n",
       "9595  45589     0\n",
       "9596  45590     0\n",
       "9597  45591     0\n",
       "9598  45592     0\n",
       "\n",
       "[9599 rows x 2 columns]"
      ]
     },
     "execution_count": 40,
     "metadata": {},
     "output_type": "execute_result"
    }
   ],
   "source": [
    "id = df_test['id']\n",
    "gaji = predictions_test\n",
    "d = {'col1': id, 'col2': gaji}\n",
    "df_temp = pd.DataFrame(data=d)\n",
    "df_result = df_temp.rename(columns={'col1':'id', 'col2':'Gaji'})\n",
    "df_result"
   ]
  },
  {
   "cell_type": "code",
   "execution_count": 41,
   "metadata": {},
   "outputs": [],
   "source": [
    "df_result.to_csv('final_project2.csv', index=False)"
   ]
  },
  {
   "cell_type": "markdown",
   "metadata": {},
   "source": [
    "-------\n",
    "menggunakan decision tree classifier"
   ]
  },
  {
   "cell_type": "code",
   "execution_count": 38,
   "metadata": {},
   "outputs": [
    {
     "data": {
      "text/plain": [
       "DecisionTreeClassifier(ccp_alpha=0.0, class_weight=None, criterion='gini',\n",
       "                       max_depth=None, max_features=None, max_leaf_nodes=None,\n",
       "                       min_impurity_decrease=0.0, min_impurity_split=None,\n",
       "                       min_samples_leaf=1, min_samples_split=2,\n",
       "                       min_weight_fraction_leaf=0.0, presort='deprecated',\n",
       "                       random_state=None, splitter='best')"
      ]
     },
     "execution_count": 38,
     "metadata": {},
     "output_type": "execute_result"
    }
   ],
   "source": [
    "model = DecisionTreeClassifier()\n",
    "model.fit(X_train, Y_train)"
   ]
  },
  {
   "cell_type": "code",
   "execution_count": 39,
   "metadata": {},
   "outputs": [],
   "source": [
    "predictions = model.predict(X_validation)"
   ]
  },
  {
   "cell_type": "code",
   "execution_count": 40,
   "metadata": {},
   "outputs": [
    {
     "data": {
      "text/plain": [
       "array([0, 1, 0, ..., 0, 0, 0])"
      ]
     },
     "execution_count": 40,
     "metadata": {},
     "output_type": "execute_result"
    }
   ],
   "source": [
    "predictions"
   ]
  },
  {
   "cell_type": "code",
   "execution_count": 41,
   "metadata": {},
   "outputs": [
    {
     "name": "stdout",
     "output_type": "stream",
     "text": [
      "0.8255313237949715\n",
      "[[5262  196]\n",
      " [1060  681]]\n",
      "              precision    recall  f1-score   support\n",
      "\n",
      "           0       0.83      0.96      0.89      5458\n",
      "           1       0.78      0.39      0.52      1741\n",
      "\n",
      "    accuracy                           0.83      7199\n",
      "   macro avg       0.80      0.68      0.71      7199\n",
      "weighted avg       0.82      0.83      0.80      7199\n",
      "\n"
     ]
    }
   ],
   "source": [
    "# Evaluate predictions\n",
    "print(accuracy_score(Y_validation, predictions))\n",
    "print(confusion_matrix(Y_validation, predictions))\n",
    "print(classification_report(Y_validation, predictions))"
   ]
  },
  {
   "cell_type": "markdown",
   "metadata": {},
   "source": [
    "-----"
   ]
  },
  {
   "cell_type": "code",
   "execution_count": 43,
   "metadata": {},
   "outputs": [
    {
     "data": {
      "text/plain": [
       "array([[0.0, 0.0, 40.0, ..., 5, 5, 5],\n",
       "       [0.0, 0.0, 50.0, ..., 3, 3, 3],\n",
       "       [0.0, 0.0, 40.0, ..., 5, 5, 5],\n",
       "       ...,\n",
       "       [0.0, 0.0, 32.0, ..., 10, 10, 10],\n",
       "       [0.0, 0.0, 40.0, ..., 5, 5, 5],\n",
       "       [0.0, 0.0, 80.0, ..., 8, 8, 8]], dtype=object)"
      ]
     },
     "execution_count": 43,
     "metadata": {},
     "output_type": "execute_result"
    }
   ],
   "source": [
    "array_test = df_test.values\n",
    "X_test = array_test[:, -7:]\n",
    "X_test"
   ]
  },
  {
   "cell_type": "code",
   "execution_count": 44,
   "metadata": {},
   "outputs": [],
   "source": [
    "predictions_test = model.predict(X_test)"
   ]
  },
  {
   "cell_type": "code",
   "execution_count": 45,
   "metadata": {},
   "outputs": [],
   "source": [
    "df_pred = pd.DataFrame(predictions_test)"
   ]
  },
  {
   "cell_type": "code",
   "execution_count": 46,
   "metadata": {},
   "outputs": [
    {
     "data": {
      "text/plain": [
       "0\n",
       "0    8437\n",
       "1    1162\n",
       "dtype: int64"
      ]
     },
     "execution_count": 46,
     "metadata": {},
     "output_type": "execute_result"
    }
   ],
   "source": [
    "df_pred.groupby(0).size()"
   ]
  },
  {
   "cell_type": "code",
   "execution_count": 47,
   "metadata": {},
   "outputs": [
    {
     "data": {
      "text/html": [
       "<div>\n",
       "<style scoped>\n",
       "    .dataframe tbody tr th:only-of-type {\n",
       "        vertical-align: middle;\n",
       "    }\n",
       "\n",
       "    .dataframe tbody tr th {\n",
       "        vertical-align: top;\n",
       "    }\n",
       "\n",
       "    .dataframe thead th {\n",
       "        text-align: right;\n",
       "    }\n",
       "</style>\n",
       "<table border=\"1\" class=\"dataframe\">\n",
       "  <thead>\n",
       "    <tr style=\"text-align: right;\">\n",
       "      <th></th>\n",
       "      <th>0</th>\n",
       "    </tr>\n",
       "  </thead>\n",
       "  <tbody>\n",
       "    <tr>\n",
       "      <th>0</th>\n",
       "      <td>0</td>\n",
       "    </tr>\n",
       "    <tr>\n",
       "      <th>1</th>\n",
       "      <td>0</td>\n",
       "    </tr>\n",
       "    <tr>\n",
       "      <th>2</th>\n",
       "      <td>0</td>\n",
       "    </tr>\n",
       "    <tr>\n",
       "      <th>3</th>\n",
       "      <td>0</td>\n",
       "    </tr>\n",
       "    <tr>\n",
       "      <th>4</th>\n",
       "      <td>0</td>\n",
       "    </tr>\n",
       "    <tr>\n",
       "      <th>...</th>\n",
       "      <td>...</td>\n",
       "    </tr>\n",
       "    <tr>\n",
       "      <th>9594</th>\n",
       "      <td>0</td>\n",
       "    </tr>\n",
       "    <tr>\n",
       "      <th>9595</th>\n",
       "      <td>0</td>\n",
       "    </tr>\n",
       "    <tr>\n",
       "      <th>9596</th>\n",
       "      <td>0</td>\n",
       "    </tr>\n",
       "    <tr>\n",
       "      <th>9597</th>\n",
       "      <td>0</td>\n",
       "    </tr>\n",
       "    <tr>\n",
       "      <th>9598</th>\n",
       "      <td>0</td>\n",
       "    </tr>\n",
       "  </tbody>\n",
       "</table>\n",
       "<p>9599 rows × 1 columns</p>\n",
       "</div>"
      ],
      "text/plain": [
       "      0\n",
       "0     0\n",
       "1     0\n",
       "2     0\n",
       "3     0\n",
       "4     0\n",
       "...  ..\n",
       "9594  0\n",
       "9595  0\n",
       "9596  0\n",
       "9597  0\n",
       "9598  0\n",
       "\n",
       "[9599 rows x 1 columns]"
      ]
     },
     "execution_count": 47,
     "metadata": {},
     "output_type": "execute_result"
    }
   ],
   "source": [
    "df_pred"
   ]
  },
  {
   "cell_type": "code",
   "execution_count": 113,
   "metadata": {},
   "outputs": [],
   "source": [
    "id = df_test['id']\n",
    "gaji = predictions_test\n",
    "d = {'col1': id, 'col2': gaji}"
   ]
  },
  {
   "cell_type": "code",
   "execution_count": 140,
   "metadata": {},
   "outputs": [],
   "source": [
    "df_temp = pd.DataFrame(data=d)"
   ]
  },
  {
   "cell_type": "code",
   "execution_count": 141,
   "metadata": {},
   "outputs": [],
   "source": [
    "df_result = df_temp.rename(columns={'col1':'id', 'col2':'Gaji'})"
   ]
  },
  {
   "cell_type": "code",
   "execution_count": 142,
   "metadata": {},
   "outputs": [
    {
     "data": {
      "text/html": [
       "<div>\n",
       "<style scoped>\n",
       "    .dataframe tbody tr th:only-of-type {\n",
       "        vertical-align: middle;\n",
       "    }\n",
       "\n",
       "    .dataframe tbody tr th {\n",
       "        vertical-align: top;\n",
       "    }\n",
       "\n",
       "    .dataframe thead th {\n",
       "        text-align: right;\n",
       "    }\n",
       "</style>\n",
       "<table border=\"1\" class=\"dataframe\">\n",
       "  <thead>\n",
       "    <tr style=\"text-align: right;\">\n",
       "      <th></th>\n",
       "      <th>id</th>\n",
       "      <th>Gaji</th>\n",
       "    </tr>\n",
       "  </thead>\n",
       "  <tbody>\n",
       "    <tr>\n",
       "      <th>0</th>\n",
       "      <td>35994</td>\n",
       "      <td>0</td>\n",
       "    </tr>\n",
       "    <tr>\n",
       "      <th>1</th>\n",
       "      <td>35995</td>\n",
       "      <td>0</td>\n",
       "    </tr>\n",
       "    <tr>\n",
       "      <th>2</th>\n",
       "      <td>35996</td>\n",
       "      <td>0</td>\n",
       "    </tr>\n",
       "    <tr>\n",
       "      <th>3</th>\n",
       "      <td>35997</td>\n",
       "      <td>0</td>\n",
       "    </tr>\n",
       "    <tr>\n",
       "      <th>4</th>\n",
       "      <td>35998</td>\n",
       "      <td>0</td>\n",
       "    </tr>\n",
       "    <tr>\n",
       "      <th>...</th>\n",
       "      <td>...</td>\n",
       "      <td>...</td>\n",
       "    </tr>\n",
       "    <tr>\n",
       "      <th>9594</th>\n",
       "      <td>45588</td>\n",
       "      <td>0</td>\n",
       "    </tr>\n",
       "    <tr>\n",
       "      <th>9595</th>\n",
       "      <td>45589</td>\n",
       "      <td>0</td>\n",
       "    </tr>\n",
       "    <tr>\n",
       "      <th>9596</th>\n",
       "      <td>45590</td>\n",
       "      <td>0</td>\n",
       "    </tr>\n",
       "    <tr>\n",
       "      <th>9597</th>\n",
       "      <td>45591</td>\n",
       "      <td>0</td>\n",
       "    </tr>\n",
       "    <tr>\n",
       "      <th>9598</th>\n",
       "      <td>45592</td>\n",
       "      <td>0</td>\n",
       "    </tr>\n",
       "  </tbody>\n",
       "</table>\n",
       "<p>9599 rows × 2 columns</p>\n",
       "</div>"
      ],
      "text/plain": [
       "         id  Gaji\n",
       "0     35994     0\n",
       "1     35995     0\n",
       "2     35996     0\n",
       "3     35997     0\n",
       "4     35998     0\n",
       "...     ...   ...\n",
       "9594  45588     0\n",
       "9595  45589     0\n",
       "9596  45590     0\n",
       "9597  45591     0\n",
       "9598  45592     0\n",
       "\n",
       "[9599 rows x 2 columns]"
      ]
     },
     "execution_count": 142,
     "metadata": {},
     "output_type": "execute_result"
    }
   ],
   "source": [
    "df_result"
   ]
  },
  {
   "cell_type": "code",
   "execution_count": 144,
   "metadata": {},
   "outputs": [],
   "source": [
    "df_result.to_csv('final_project1.csv', index=False)"
   ]
  },
  {
   "cell_type": "code",
   "execution_count": null,
   "metadata": {},
   "outputs": [],
   "source": []
  }
 ],
 "metadata": {
  "kernelspec": {
   "display_name": "Python 3",
   "language": "python",
   "name": "python3"
  },
  "language_info": {
   "codemirror_mode": {
    "name": "ipython",
    "version": 3
   },
   "file_extension": ".py",
   "mimetype": "text/x-python",
   "name": "python",
   "nbconvert_exporter": "python",
   "pygments_lexer": "ipython3",
   "version": "3.7.6"
  }
 },
 "nbformat": 4,
 "nbformat_minor": 4
}
